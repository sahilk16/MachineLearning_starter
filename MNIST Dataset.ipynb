{
 "cells": [
  {
   "cell_type": "markdown",
   "metadata": {},
   "source": [
    "\n",
    "# Convolutional Neural Network - Hyperparameter tuning Notebook\n",
    "\n",
    "To begin this notebook we will first try to understand what is a Convolutional Neural Network and understand some of its main components ie: Layers which makes this Neural Network different from a normal Artificial Neural Network(ANN).\n",
    "\n",
    "## Convolutional Neural Networks\n",
    "CNNs as they are popularly known are the algorithms which are mostly used in the field of Image Processing and computer vision. They are not different from the normal Artificial Neural Networks and are made up of similar structure of neurons with weights associated with it but have some different layers in it which help us process images effectively and can be used in many other fields like self-driving cars, photo tagging, gesture reognition etc.\n",
    "\n",
    "CNNs work by consecutively detecting **features** using the different **filters**, which form different layers and are eventually combined to process the image as a whole. These filters work on different aspects of the image - like edge detection, corner detection, embossing etc. All these filters are expressed in a form of a **N x N matrix**. So all of these layers we get from the dot product multiplication of filters and the pixel values in the Images are then combined and fed to the next layer for learning and classifying the image accordingly. \n",
    "\n",
    "CNNs always deal with the **height, width and depth** of the image. Depth is **3** if the image is coloured indicating the Red, Blue, Green colours and is **1** if the image is black and white.\n",
    "\n",
    "We will understand this process in detail in the coming section.\n",
    "\n",
    "If you want to understand the Math behind the process it is very well explained in this paper with some other important concepts as well: https://cs.nju.edu.cn/wujx/paper/CNN.pdf\n",
    "\n",
    "As we now have an overview of what is a Convolutional Neural Network lets understand the different layers and their working.\n",
    "\n",
    "CNNs are made up of 3 layers:\n",
    "1) Convolutional layers\n",
    "2) Pooling Layers\n",
    "3) Fully-connected layers\n",
    "\n",
    "# Convolutional Layer\n",
    "Convolutional layers is the layer which forms the core of the CNNs and is where all the heavy computation ( Maths - dot product multiplication) takes place.\n",
    "\n",
    "CONV layer is made up of different filters which are then combined to a form a layer. Every filter in this layer is a **N x N** matrix which defines the height and width of the filter.It is nothing but a set of weights. This filter is taken and is slided over the entire image from top left corner to the bottom right corner once. During this process the values in the filter are multiplied to the values of pixels in the image corresponsing to their position. This gives us an layer called **Activation Map**. There are many such filters which are slided over the image once with different values working on different aspects of the image. They all produce an Activation map and a collection of this Activation Map forms our Convolutional Layer.\n"
   ]
  },
  {
   "cell_type": "code",
   "execution_count": 17,
   "metadata": {},
   "outputs": [
    {
     "data": {
      "image/png": "[encoded data removed]",
      "text/plain": [
       "<IPython.core.display.Image object>"
      ]
     },
     "execution_count": 17,
     "metadata": {},
     "output_type": "execute_result"
    }
   ],
   "source": [
    "from IPython.display import Image\n",
    "Image(filename='C:/Users/SAHIL/Desktop/cnn_layer.png')"
   ]
  },
  {
   "cell_type": "markdown",
   "metadata": {},
   "source": [
    "In this image above we can see that we had an Image of 28x28x3 pixel (input) over which we used a 3x3 filters(kernel) which gave us layers of Activation Maps (output) which form our Convolutional Layer. We notice here that the image size of our activation maps are reduced. \n",
    "\n",
    "The most used activation function in this layer is the **\"relu\"** - Rectified Linear Unit. This helps us to preserve the non-linearity in the process.\n",
    "\n",
    "To keep the size of the Activation Maps in accordance of our Input Image we make use of a concept called **Zero-Padding**. Here we just add zero pixel to the border of the image. This results in the Activation maps keeping the same input Image size. \n",
    "\n",
    "# Pooling Layer\n",
    "Pooling layers function is to reduce the spatial size of the CONV layer thereby reducing the computation time. The Pooling Layer operates independently on every depth slice of the input and resizes it spatially, using the MAX operation. The most common form is a pooling layer with filters of size 2x2 applied with a **stride** of 2. This actually removes 75% of the values from our CONV layer.\n",
    "So why do we do it?\n",
    "Pooling Layer helps us to maintain the Spatial Invariance in the image. In simple terms it helps us to know the feature in the image regardless of its position and angle. Pooling helps us to preserve the invariance that we could infer in the future images. It also helps us in reducing the size of our image preserving the Important Features. We also reduce the number of parameters. \n",
    "\n",
    "There are many types of Pooling - Average, Max etc. But the most preferred one is the MaxPooling with of (2 x 2) with a stride of 2. \n",
    "\n",
    "For better understanding of the Pooling operations please refer to this paper: http://ais.uni-bonn.de/papers/icann2010_maxpool.pdf\n",
    "\n",
    "# Fully Connected Layer\n",
    "The fully connected layer is nothing but a normal layer with neurons which we have been using in Artificial Neural networks. \n",
    "\n",
    "After we complete our pooling process we add a **Flatten()** function to the pooling layer which converts the pooling layer to a vector of numbers which is the input value which we expect in a normal Neural Network. Here each pixel from the pooling layer forms a separate Neuron and is connected to all the other neurons in different layers unlike the ANNs, hence the name Fully COnnected Layer.\n",
    "\n",
    "The main purpose of this layer is to combine our features into attributes which help us predict the final class even better. So it actually helps us to know the best features that we have in form of neurons and tells the class which are the most important feature for the respective class. The last fully connected layer contains the as many neurons as the number of classes to be predicted.\n",
    "\n",
    "Eg: So if we want to predict two classes Cats-Dogs, our last Fully connected layer will contain 2 Neurons which are connected to every Neuron in the layer before. The Network here will help those last two Neurons (CATS and Dogs) to know which of the other Neurons in the previous layer best define the features of a Dog or a Cat. And is the value of that Neuron for a particular image is high the Cat-Neuron will know that there is a high chance of this image being a Cat. \n",
    "\n",
    "The Activation function we normally use in the output layer is the **Softmax** activation function. This helps us to balance our prediction percentage for the different classes.\n",
    "\n",
    "**To get an indepth detail of the entire working it is highly recommended to read the course notes of Andrej Karpathy : http://cs231n.github.io/convolutional-networks/** "
   ]
  },
  {
   "cell_type": "markdown",
   "metadata": {},
   "source": [
    "\n",
    "# Working on MNIST dataset using Keras\n",
    "\n",
    "As we now have a brief idea about the how a CNN works and what are the layers involved in it we would now see a complete implementation of a problem where we need to recognize the hand written digits in a dataset. As we want to save some computation time we would only consider two digits - **2** and **7** and build a model to recognize these hand written digits.\n",
    "\n",
    "As we build the model we would be covering the most important part understanding the parameters involved in the layers and also tuning them to an extent to improve our accuracy\n"
   ]
  },
  {
   "cell_type": "code",
   "execution_count": 1,
   "metadata": {},
   "outputs": [
    {
     "name": "stderr",
     "output_type": "stream",
     "text": [
      "Using TensorFlow backend.\n"
     ]
    }
   ],
   "source": [
    "# Importing all the required packages from Keras for our problem\n",
    "from __future__ import print_function\n",
    "import keras\n",
    "from keras.datasets import mnist    #the hand written digit dataset\n",
    "from keras.models import Sequential  # used to initialize our network as a sequence of layers\n",
    "from keras.layers import Dense, Dropout, Flatten #required layers for CNNs\n",
    "from keras.layers import Conv2D, MaxPooling2D # required layers for CNNs\n",
    "from keras import backend as K\n",
    "import numpy as np  \n",
    "%matplotlib inline\n",
    "import matplotlib.pyplot as plt"
   ]
  },
  {
   "cell_type": "code",
   "execution_count": 2,
   "metadata": {
    "collapsed": true
   },
   "outputs": [],
   "source": [
    "# input image dimensions\n",
    "img_rows, img_cols = 28, 28\n"
   ]
  },
  {
   "cell_type": "code",
   "execution_count": 3,
   "metadata": {
    "collapsed": true
   },
   "outputs": [],
   "source": [
    "# the data, shuffled and split between train and test sets\n",
    "(x_train, y_train), (x_test, y_test) = mnist.load_data()\n"
   ]
  },
  {
   "cell_type": "code",
   "execution_count": 4,
   "metadata": {},
   "outputs": [
    {
     "data": {
      "image/png": "[encoded data removed]",
      "text/plain": [
       "<matplotlib.figure.Figure at 0xa84a16f320>"
      ]
     },
     "metadata": {},
     "output_type": "display_data"
    }
   ],
   "source": [
    "# We will now define a function to see some of our images in the dataset\n",
    "def plots(ims, interp=False, titles=None):\n",
    "    ims=np.array(ims)\n",
    "    mn,mx=ims.min(),ims.max()\n",
    "    f = plt.figure(figsize=(12,24))\n",
    "    for i in range(len(ims)):\n",
    "        sp=f.add_subplot(1, len(ims), i+1)\n",
    "        if not titles is None: sp.set_title(titles[i], fontsize=18)\n",
    "        plt.imshow(ims[i], interpolation=None if interp else 'none', vmin=mn,vmax=mx)\n",
    "\n",
    "\n",
    "def plot(im, interp=False):\n",
    "    f = plt.figure(figsize=(3,6), frameon=True)\n",
    "    plt.imshow(im, interpolation=None if interp else 'none')\n",
    "    \n",
    "plt.gray()\n",
    "plt.close()\n",
    "    \n",
    "plots(x_train[:5], titles = y_train[:5])   "
   ]
  },
  {
   "cell_type": "code",
   "execution_count": 5,
   "metadata": {
    "collapsed": true
   },
   "outputs": [],
   "source": [
    "#Only look at 2s and 7s\n",
    "train_picks = np.logical_or(y_train==2,y_train==7)\n",
    "test_picks = np.logical_or(y_test==2,y_test==7)\n",
    "\n",
    "x_train = x_train[train_picks]\n",
    "x_test = x_test[test_picks]\n",
    "y_train = np.array(y_train[train_picks]==7,dtype=int)\n",
    "y_test = np.array(y_test[test_picks]==7,dtype=int)"
   ]
  },
  {
   "cell_type": "code",
   "execution_count": 6,
   "metadata": {},
   "outputs": [
    {
     "data": {
      "image/png": "[encoded data removed]",
      "text/plain": [
       "<matplotlib.figure.Figure at 0xa84a1669e8>"
      ]
     },
     "metadata": {},
     "output_type": "display_data"
    }
   ],
   "source": [
    "# Now let's again plot the training set and see if there are only 2s and 7s in it\n",
    "\n",
    "plots(x_train[:5], titles = y_train[0:5])"
   ]
  },
  {
   "cell_type": "markdown",
   "metadata": {},
   "source": [
    "As we can see that our new training datset has only two digits **2** and **7** and have been assigned two classes 0 and 1 to the digits respectively.\n",
    "\n",
    "In the code below as we are using a Keras backend as **K**. We need to be sure of the usage of the input_shape of the image ie: **Height, Widht and Depth**. So we will be using an **if** statement which would take in both the cases where we can define the **Depth** first before Height and Width **or** after them.\n",
    "\n",
    "We need to do this because as Keras works on either TensorFlow or Theano, their syntax of taking the input_shape is different.\n",
    "\n",
    "To learn more about this please have a look at the Keras documentation.\n"
   ]
  },
  {
   "cell_type": "code",
   "execution_count": 7,
   "metadata": {
    "collapsed": true
   },
   "outputs": [],
   "source": [
    "if K.image_data_format() == 'channels_first': # Here we use the channels_first where depth defined before Height and Width\n",
    "    x_train = x_train.reshape(x_train.shape[0], 1, img_rows, img_cols)\n",
    "    x_test = x_test.reshape(x_test.shape[0], 1, img_rows, img_cols)\n",
    "    input_shape = (1, img_rows, img_cols)\n",
    "else:\n",
    "    x_train = x_train.reshape(x_train.shape[0], img_rows, img_cols, 1) # If channel_last the depth is defined after Height and Width\n",
    "    x_test = x_test.reshape(x_test.shape[0], img_rows, img_cols, 1)\n",
    "    input_shape = (img_rows, img_cols, 1)"
   ]
  },
  {
   "cell_type": "code",
   "execution_count": 8,
   "metadata": {},
   "outputs": [
    {
     "name": "stdout",
     "output_type": "stream",
     "text": [
      "x_train shape: (12223, 28, 28, 1)\n",
      "12223 train samples\n",
      "2060 test samples\n"
     ]
    }
   ],
   "source": [
    "x_train = x_train.astype('float32')\n",
    "x_test = x_test.astype('float32')\n",
    "x_train /= 255\n",
    "x_test /= 255\n",
    "print('x_train shape:', x_train.shape)\n",
    "print(x_train.shape[0], 'train samples')\n",
    "print(x_test.shape[0], 'test samples')\n"
   ]
  },
  {
   "cell_type": "code",
   "execution_count": 9,
   "metadata": {
    "collapsed": true
   },
   "outputs": [],
   "source": [
    "\n",
    "# convert class vectors to binary class matrices\n",
    "\n",
    "num_classes = 2 # as we have only two digits\n",
    "\n",
    "y_train = keras.utils.to_categorical(y_train, num_classes)\n",
    "y_test = keras.utils.to_categorical(y_test, num_classes)"
   ]
  },
  {
   "cell_type": "markdown",
   "metadata": {},
   "source": [
    "\n",
    "As we have now finished all our necessary steps required to build our model in the form of input data, we will now move forward and start building our model. We will first use some normal parameters which are expected in a layer and see what is the accuracy that we get and after that we will go in detail about the hyperparameters inside each layer, understand them and try to fine tune our model using GridSearch to some extent.\n",
    "\n",
    "Lets run a Basic Model with some default values in the layer\n"
   ]
  },
  {
   "cell_type": "code",
   "execution_count": 11,
   "metadata": {},
   "outputs": [
    {
     "name": "stdout",
     "output_type": "stream",
     "text": [
      "Train on 12223 samples, validate on 2060 samples\n",
      "Epoch 1/12\n",
      "12223/12223 [==============================] - 25s - loss: 0.2821 - acc: 0.8898 - val_loss: 0.0961 - val_acc: 0.9655\n",
      "Epoch 2/12\n",
      "12223/12223 [==============================] - 19s - loss: 0.1081 - acc: 0.9683 - val_loss: 0.0759 - val_acc: 0.9728\n",
      "Epoch 3/12\n",
      "12223/12223 [==============================] - 20s - loss: 0.0886 - acc: 0.9755 - val_loss: 0.0701 - val_acc: 0.9777\n",
      "Epoch 4/12\n",
      "12223/12223 [==============================] - 22s - loss: 0.0782 - acc: 0.9796 - val_loss: 0.0690 - val_acc: 0.9752\n",
      "Epoch 5/12\n",
      "12223/12223 [==============================] - 22s - loss: 0.0742 - acc: 0.9805 - val_loss: 0.0630 - val_acc: 0.9782\n",
      "Epoch 6/12\n",
      "12223/12223 [==============================] - 22s - loss: 0.0728 - acc: 0.9825 - val_loss: 0.0612 - val_acc: 0.9782\n",
      "Epoch 7/12\n",
      "12223/12223 [==============================] - 22s - loss: 0.0697 - acc: 0.9817 - val_loss: 0.0571 - val_acc: 0.9820\n",
      "Epoch 8/12\n",
      "12223/12223 [==============================] - 22s - loss: 0.0652 - acc: 0.9844 - val_loss: 0.0577 - val_acc: 0.9811\n",
      "Epoch 9/12\n",
      "12223/12223 [==============================] - 21s - loss: 0.0612 - acc: 0.9858 - val_loss: 0.0580 - val_acc: 0.9825\n",
      "Epoch 10/12\n",
      "12223/12223 [==============================] - 20s - loss: 0.0593 - acc: 0.9858 - val_loss: 0.0552 - val_acc: 0.9825\n",
      "Epoch 11/12\n",
      "12223/12223 [==============================] - 20s - loss: 0.0577 - acc: 0.9862 - val_loss: 0.0560 - val_acc: 0.9816\n",
      "Epoch 12/12\n",
      "12223/12223 [==============================] - 22s - loss: 0.0586 - acc: 0.9855 - val_loss: 0.0509 - val_acc: 0.9840\n",
      "Test loss: 0.0509255080004\n",
      "Test accuracy: 0.983980582524\n"
     ]
    }
   ],
   "source": [
    "batch_size = 128\n",
    "epochs = 12\n",
    "\n",
    "model = Sequential()\n",
    "model.add(Conv2D(4, kernel_size=(3, 3),activation='relu',input_shape=input_shape))\n",
    "model.add(Conv2D(8, (3, 3), activation='relu'))\n",
    "model.add(MaxPooling2D(pool_size=(2, 2)))\n",
    "model.add(Dropout(0.25))\n",
    "model.add(Flatten())\n",
    "model.add(Dense(16, activation='relu'))\n",
    "model.add(Dropout(0.5))\n",
    "model.add(Dense(2, activation='softmax'))\n",
    "\n",
    "model.compile(loss=keras.losses.categorical_crossentropy,\n",
    "              optimizer=keras.optimizers.Adadelta(),\n",
    "              metrics=['accuracy'])\n",
    "\n",
    "model.fit(x_train, y_train,\n",
    "          batch_size=batch_size,\n",
    "          epochs=epochs,\n",
    "          verbose=1,\n",
    "          validation_data=(x_test, y_test))\n",
    "score = model.evaluate(x_test, y_test, verbose=0)\n",
    "print('Test loss:', score[0])\n",
    "print('Test accuracy:', score[1])"
   ]
  },
  {
   "cell_type": "markdown",
   "metadata": {},
   "source": [
    "As we have achieved a very good validation score using some default values we will now understand some hyperparamters involved in these models and try and tune them to achieve better accuracy."
   ]
  },
  {
   "cell_type": "markdown",
   "metadata": {},
   "source": [
    "# Understanding the Hyperparameters\n",
    "As we have seen a model which gives us a very nice score on some really default parameters we will now try and understand some of the important parameters which can help us improve the validation accuracy of our model to some extent\n",
    "\n",
    "## Filter Size\n",
    "This is a parameter that we use in the Convolutional layer and forms the base of our model. A filter is nothing but a set of weights that we express in the form of a **N x N** matrix. So choosing the sie of this matrix is one important task and can surely affect the model performance.\n",
    "\n",
    "Having small filters helps us in preserving the spatial resolution of our image, we should always consider filters according to the size of the given image, the starting size for most cases of small images is ( **3 x 3 or 5 x 5** ). For images which are bigger in size we can start with ** 7 x 7**. In our case as the input image size is 28 x 28 we will use our small filters for the Convolutional layer.\n",
    "\n",
    "## Stride\n",
    "Stride is a parameter which defines the slide of the filter. It is the value with which the filter slides ahead after performing the (dot)multiple operation with the pixel values of the image. We use the value **Stride = 1** for most cases. It is normally set in a way that the putput volume we get is an integer and not a fraction. Increasing the stride reduces the spatial dimensions of the image\n",
    "\n",
    "## Weight Initializers\n",
    "This parameter is one of the most important parameter in Neural Networks and affects the accuracy of the model to a great extent. Weights in the Convolutional layers are nothing but the values which we will be using in the filter/kernel that will be multiplied with the pixel values of the image. It is a very important parameter as its not only present in the Convolutional layer but is also associated with the weights in the Fully-Connected layer.\n",
    "\n",
    "The kernel_initializer that we have used in our case is the \"Xavier Initialization\" as it goes very well with the activation function \"relu\" - Rectifiede Linear Unit. It is highly suggested to use both of them together.\n",
    "\n",
    "we can also define our own weight initializer function.\n",
    "\n",
    "To know more about the \"Xavier Initialization\" read this blog: http://andyljones.tumblr.com/post/110998971763/an-explanation-of-xavier-initialization\n",
    "\n",
    "Original paper: http://proceedings.mlr.press/v9/glorot10a/glorot10a.pdf\n",
    "\n",
    "\n",
    "## Activation function\n",
    "Activation function is nothing but a function which takes in the multiplication of weights - a number as a input and performs mathematical operations on it according to the fucntion selected and gives us the output. It helps us to estimate complex non-linear relationships in data. There are many activation functions present like the **Sigmoid, tanh, ReLU, LeakyReLU** but we should always select the ones which suit our layers.\n",
    "\n",
    "As presented in many articles and papers the best suited activation function for CNNs is **reLU** as it it helps the SGD converge a lot quicker compared to sigmoid/tanh, that's why we have selected it as our activation function on all layers except for the last one. \n",
    "\n",
    "ReLU = f(x) = max(0, x) - which means it is simple a threshold at 0\n",
    "\n",
    "In the last layer it is always recommended to use the Softmax. It is an exponential function, with results normalized so that the sum of activations across the layer is 1.0, so that the outputs can be interpreted as probabilities of class.\n",
    "\n",
    "## Optimizers and Learning rate\n",
    "As Neural Networks use Gradient Descent for optimizing the performance of our model. There are many algorithms which help us to optimize the Gradient Descent and achieve a robust model.\n",
    "\n",
    "There are many optimizers like ** Adam , Adagrad, RMSprop, Adadelta** and need to decide which would suits our model the best. This should be done using gridsearch as there is no best optimizer for any particular model.\n",
    "\n",
    "With Optimizers we also have their learning rate which is also a Hyperparameter which we can tune and improve the accuracy of the model. **Learning Rate** in simple terms is the size of the steps we need to reach a minnimum.\n",
    "\n",
    "For a detailed explanation of Optimizers, this article is highly recommended: http://sebastianruder.com/optimizing-gradient-descent/\n",
    "\n",
    "## Batch Size and Number of Epochs\n",
    "Batch size is the number of inputs our model takes in at once from our training sample. Epochs is when a complete training sample is exposed to our model.\n",
    "\n",
    "\n",
    "\n"
   ]
  },
  {
   "cell_type": "markdown",
   "metadata": {
    "collapsed": true
   },
   "source": [
    "Lets begin tuning our parameters, we wont tune every parameter but try to tune some which can help us improve our accuracy. From the previous code we will chnage some of our basic parameters and introduce regularization in form of Dropout by also varying the dropout rate. \n",
    "\n",
    "We will change some of the values in the code without Gridsearch as these values have proved to work well in the MNISt dataset before. We wil use a **5 x 5** filter and also use kernel_initializer as \"Xavier initializer\" as it is suggested in many articles. We would be by default using **reLU** as an activation function for all our layers except for the last one. We would vary our dropout rate according to the insample and outsample performace (Accuracy)\n",
    "\n",
    "We will plot out accuracy against the epochs and also our loss function to visually see how our model is performing.\n"
   ]
  },
  {
   "cell_type": "markdown",
   "metadata": {},
   "source": [
    "## Batch size and Epochs\n",
    "Tuning these two parameters is very important because it helps you to know what is the best input size that our model can take and how many times does the training data needs to be exposed to the model to improve its accuracy. We should consider overfitting as a problem in this scenario.\n",
    "\n",
    "We have increased the filter size and number in this model and also used an kernel/filter initializer for our model."
   ]
  },
  {
   "cell_type": "code",
   "execution_count": 26,
   "metadata": {},
   "outputs": [
    {
     "name": "stdout",
     "output_type": "stream",
     "text": [
      "Best: 0.995664 using {'epochs': 20, 'batch_size': 256}\n",
      "0.993700 (0.000926) with: {'epochs': 8, 'batch_size': 128}\n",
      "0.995173 (0.001531) with: {'epochs': 12, 'batch_size': 128}\n",
      "0.995337 (0.001314) with: {'epochs': 16, 'batch_size': 128}\n",
      "0.995173 (0.001450) with: {'epochs': 20, 'batch_size': 128}\n",
      "0.994519 (0.001304) with: {'epochs': 8, 'batch_size': 200}\n",
      "0.994273 (0.000613) with: {'epochs': 12, 'batch_size': 200}\n",
      "0.995500 (0.001364) with: {'epochs': 16, 'batch_size': 200}\n",
      "0.995009 (0.001029) with: {'epochs': 20, 'batch_size': 200}\n",
      "0.993373 (0.001003) with: {'epochs': 8, 'batch_size': 256}\n",
      "0.994519 (0.000644) with: {'epochs': 12, 'batch_size': 256}\n",
      "0.994846 (0.001403) with: {'epochs': 16, 'batch_size': 256}\n",
      "0.995664 (0.000579) with: {'epochs': 20, 'batch_size': 256}\n"
     ]
    }
   ],
   "source": [
    "from sklearn.model_selection import GridSearchCV\n",
    "from keras.wrappers.scikit_learn import KerasClassifier\n",
    "from keras import optimizers\n",
    "\n",
    "\n",
    "\n",
    "def new():\n",
    "    model = Sequential()\n",
    "    model.add(Conv2D(8, kernel_size=(5, 5), kernel_initializer = 'glorot_uniform',activation='relu',input_shape=input_shape))\n",
    "    model.add(Conv2D(16, (5, 5), activation='relu', kernel_initializer = 'glorot_uniform'))\n",
    "    model.add(MaxPooling2D(pool_size=(2, 2)))\n",
    "    model.add(Dropout(0.30))\n",
    "    model.add(Flatten())\n",
    "    model.add(Dense(32, activation='relu'))\n",
    "    model.add(Dropout(0.50))\n",
    "    model.add(Dense(2, activation='softmax'))\n",
    "    #nadam = optimizers.Nadam(lr= 0.2)\n",
    "    model.compile(loss=keras.losses.binary_crossentropy,\n",
    "              optimizer='adam',\n",
    "              metrics=['accuracy'])\n",
    "\n",
    "    return model\n",
    "\n",
    "\n",
    "\n",
    "model = KerasClassifier(build_fn= new,  verbose=0)\n",
    "batch_size = [128, 200, 256]\n",
    "epochs = [8, 12, 16, 20]\n",
    "optimizer = [\"adam\", \"nadam\", \"RMSprop\", \"Adadelta\"]\n",
    "#learn_rate = [0.001, 0.01, 0.1, 0.2, 0.3]\n",
    "#momentum = [0.0, 0.2, 0.4, 0.6, 0.8, 0.9]\n",
    "#neurons = [4, 8 ,16, 32, 64]\n",
    "#dropout = [0.2, 0.35, 0.4, 0.5, 0.6]\n",
    "param_grid = dict(batch_size = batch_size, epochs = epochs)\n",
    "grid = GridSearchCV(estimator=model, param_grid=param_grid)\n",
    "grid_result = grid.fit(x_train, y_train)\n",
    "# summarize results\n",
    "print(\"Best: %f using %s\" % (grid_result.best_score_, grid_result.best_params_))\n",
    "means = grid_result.cv_results_['mean_test_score']\n",
    "stds = grid_result.cv_results_['std_test_score']\n",
    "params = grid_result.cv_results_['params']\n",
    "for mean, stdev, param in zip(means, stds, params):\n",
    "    print(\"%f (%f) with: %r\" % (mean, stdev, param))"
   ]
  },
  {
   "cell_type": "markdown",
   "metadata": {},
   "source": [
    "## Hidden neurons in the Fully connected Layer\n",
    "As we know that we have a binary classification problem we will keep the number of neurons in the last layer to be 2 but the hidden layer before that can have a neurons which can be tuned. So we will run a grid search with some values of neurons in that penultimate layer and see which number gives us the best performance."
   ]
  },
  {
   "cell_type": "code",
   "execution_count": 24,
   "metadata": {},
   "outputs": [
    {
     "name": "stdout",
     "output_type": "stream",
     "text": [
      "Best: 0.995582 using {'neurons': 32}\n",
      "0.994600 (0.000348) with: {'neurons': 4}\n",
      "0.994191 (0.000810) with: {'neurons': 8}\n",
      "0.995337 (0.001252) with: {'neurons': 16}\n",
      "0.995582 (0.001604) with: {'neurons': 32}\n",
      "0.994846 (0.001912) with: {'neurons': 64}\n"
     ]
    }
   ],
   "source": [
    "from sklearn.model_selection import GridSearchCV\n",
    "from keras.wrappers.scikit_learn import KerasClassifier\n",
    "from keras import optimizers\n",
    "\n",
    "\n",
    "\n",
    "def new(neurons = 8):\n",
    "    model = Sequential()\n",
    "    model.add(Conv2D(8, kernel_size=(5, 5), kernel_initializer = 'glorot_uniform',activation='relu',input_shape=input_shape))\n",
    "    model.add(Conv2D(16, (5, 5), activation='relu', kernel_initializer = 'glorot_uniform'))\n",
    "    model.add(MaxPooling2D(pool_size=(2, 2)))\n",
    "    model.add(Dropout(0.30))\n",
    "    model.add(Flatten())\n",
    "    model.add(Dense(neurons, activation='relu'))\n",
    "    model.add(Dropout(0.50))\n",
    "    model.add(Dense(2, activation='softmax'))\n",
    "    #nadam = optimizers.Nadam(lr= 0.2)\n",
    "    model.compile(loss=keras.losses.binary_crossentropy,\n",
    "              optimizer='adam',\n",
    "              metrics=['accuracy'])\n",
    "\n",
    "    return model\n",
    "\n",
    "\n",
    "\n",
    "model = KerasClassifier(build_fn= new, epochs = 12, batch_size = 128, verbose=0)\n",
    "batch_size = [128, 256]\n",
    "epochs = [8, 12]\n",
    "optimizer = [\"adam\", \"nadam\", \"RMSprop\", \"Adadelta\"]\n",
    "learn_rate = [0.001, 0.01, 0.1, 0.2, 0.3]\n",
    "momentum = [0.0, 0.2, 0.4, 0.6, 0.8, 0.9]\n",
    "neurons = [4, 8 ,16, 32, 64]\n",
    "#dropout = [0.2, 0.35, 0.4, 0.5, 0.6]\n",
    "param_grid = dict(neurons = neurons)\n",
    "grid = GridSearchCV(estimator=model, param_grid=param_grid)\n",
    "grid_result = grid.fit(x_train, y_train)\n",
    "# summarize results\n",
    "print(\"Best: %f using %s\" % (grid_result.best_score_, grid_result.best_params_))\n",
    "means = grid_result.cv_results_['mean_test_score']\n",
    "stds = grid_result.cv_results_['std_test_score']\n",
    "params = grid_result.cv_results_['params']\n",
    "for mean, stdev, param in zip(means, stds, params):\n",
    "    print(\"%f (%f) with: %r\" % (mean, stdev, param))"
   ]
  },
  {
   "cell_type": "markdown",
   "metadata": {
    "collapsed": true
   },
   "source": [
    "## Optimizer\n",
    "For searching the best optimizer we would runa gridsearch for 4 optimizers which we think can help us converge a lot quicker."
   ]
  },
  {
   "cell_type": "code",
   "execution_count": 13,
   "metadata": {
    "scrolled": true
   },
   "outputs": [
    {
     "name": "stdout",
     "output_type": "stream",
     "text": [
      "Best: 0.995255 using {'optimizer': 'nadam'}\n",
      "0.994928 (0.000904) with: {'optimizer': 'adam'}\n",
      "0.995255 (0.000759) with: {'optimizer': 'nadam'}\n",
      "0.994682 (0.001208) with: {'optimizer': 'RMSprop'}\n",
      "0.993864 (0.001314) with: {'optimizer': 'Adadelta'}\n"
     ]
    }
   ],
   "source": [
    "from sklearn.model_selection import GridSearchCV\n",
    "from keras.wrappers.scikit_learn import KerasClassifier\n",
    "\n",
    "\n",
    "\n",
    "def new(optimizer = 'adam'):\n",
    "    model = Sequential()\n",
    "    model.add(Conv2D(8, kernel_size=(5, 5), kernel_initializer = 'glorot_uniform',activation='relu',input_shape=input_shape))\n",
    "    model.add(Conv2D(16, (5, 5), activation='relu', kernel_initializer = 'glorot_uniform'))\n",
    "    model.add(MaxPooling2D(pool_size=(2, 2)))\n",
    "    model.add(Dropout(0.40))\n",
    "    model.add(Flatten())\n",
    "    model.add(Dense(16, activation='relu'))\n",
    "    model.add(Dropout(0.30))\n",
    "    model.add(Dense(2, activation='softmax'))\n",
    "\n",
    "    model.compile(loss=keras.losses.binary_crossentropy,\n",
    "              optimizer='adam',\n",
    "              metrics=['accuracy'])\n",
    "\n",
    "    return model\n",
    "\n",
    "\n",
    "\n",
    "model = KerasClassifier(build_fn= new, verbose=0)\n",
    "batch_size = [128, 256]\n",
    "epochs = [8, 12]\n",
    "optimizer = [\"adam\", \"nadam\", \"RMSprop\", \"Adadelta\"]\n",
    "#dropout = [0.2, 0.35, 0.4, 0.5, 0.6]\n",
    "param_grid = dict(optimizer = optimizer)\n",
    "grid = GridSearchCV(estimator=model, param_grid=param_grid)\n",
    "grid_result = grid.fit(x_train, y_train)\n",
    "# summarize results\n",
    "print(\"Best: %f using %s\" % (grid_result.best_score_, grid_result.best_params_))\n",
    "means = grid_result.cv_results_['mean_test_score']\n",
    "stds = grid_result.cv_results_['std_test_score']\n",
    "params = grid_result.cv_results_['params']\n",
    "for mean, stdev, param in zip(means, stds, params):\n",
    "    print(\"%f (%f) with: %r\" % (mean, stdev, param))"
   ]
  },
  {
   "cell_type": "markdown",
   "metadata": {},
   "source": [
    "As we see that **Nadam** and **adam** have performed very nicely and are quite close to each other, but for our future models that we build we will stick to using adam as our optimizer as we can also change the learning rate in adam which is not suggested for nadam. In nadam its suggested to stick to its default values"
   ]
  },
  {
   "cell_type": "markdown",
   "metadata": {},
   "source": [
    "## Learning rate and momentum\n",
    "These are two important parameters which we can tune in for our optimizer. They are nothing but the values which tells us the length of our steps in Gradient descent. So by using adam as our optimizer lets tune these parameters using Gridsearch."
   ]
  },
  {
   "cell_type": "code",
   "execution_count": 15,
   "metadata": {},
   "outputs": [
    {
     "name": "stdout",
     "output_type": "stream",
     "text": [
      "Best: 0.996073 using {'learn_rate': 0.2, 'momentum': 0.4}\n",
      "0.995828 (0.000531) with: {'learn_rate': 0.001, 'momentum': 0.0}\n",
      "0.993782 (0.001029) with: {'learn_rate': 0.001, 'momentum': 0.2}\n",
      "0.994273 (0.002008) with: {'learn_rate': 0.001, 'momentum': 0.4}\n",
      "0.995909 (0.000810) with: {'learn_rate': 0.001, 'momentum': 0.6}\n",
      "0.993864 (0.002111) with: {'learn_rate': 0.001, 'momentum': 0.8}\n",
      "0.995500 (0.000417) with: {'learn_rate': 0.001, 'momentum': 0.9}\n",
      "0.994109 (0.000530) with: {'learn_rate': 0.01, 'momentum': 0.0}\n",
      "0.994109 (0.000530) with: {'learn_rate': 0.01, 'momentum': 0.2}\n",
      "0.995828 (0.001565) with: {'learn_rate': 0.01, 'momentum': 0.4}\n",
      "0.994600 (0.000200) with: {'learn_rate': 0.01, 'momentum': 0.6}\n",
      "0.994764 (0.002028) with: {'learn_rate': 0.01, 'momentum': 0.8}\n",
      "0.994928 (0.001157) with: {'learn_rate': 0.01, 'momentum': 0.9}\n",
      "0.995746 (0.001104) with: {'learn_rate': 0.1, 'momentum': 0.0}\n",
      "0.994273 (0.001304) with: {'learn_rate': 0.1, 'momentum': 0.2}\n",
      "0.994682 (0.001207) with: {'learn_rate': 0.1, 'momentum': 0.4}\n",
      "0.995909 (0.000810) with: {'learn_rate': 0.1, 'momentum': 0.6}\n",
      "0.995009 (0.001288) with: {'learn_rate': 0.1, 'momentum': 0.8}\n",
      "0.994764 (0.000612) with: {'learn_rate': 0.1, 'momentum': 0.9}\n",
      "0.995337 (0.001116) with: {'learn_rate': 0.2, 'momentum': 0.0}\n",
      "0.995009 (0.000612) with: {'learn_rate': 0.2, 'momentum': 0.2}\n",
      "0.996073 (0.000694) with: {'learn_rate': 0.2, 'momentum': 0.4}\n",
      "0.994764 (0.001852) with: {'learn_rate': 0.2, 'momentum': 0.6}\n",
      "0.994846 (0.000530) with: {'learn_rate': 0.2, 'momentum': 0.8}\n",
      "0.995418 (0.000758) with: {'learn_rate': 0.2, 'momentum': 0.9}\n",
      "0.995255 (0.001104) with: {'learn_rate': 0.3, 'momentum': 0.0}\n",
      "0.995664 (0.000306) with: {'learn_rate': 0.3, 'momentum': 0.2}\n",
      "0.994764 (0.001104) with: {'learn_rate': 0.3, 'momentum': 0.4}\n",
      "0.995500 (0.000835) with: {'learn_rate': 0.3, 'momentum': 0.6}\n",
      "0.995991 (0.000758) with: {'learn_rate': 0.3, 'momentum': 0.8}\n",
      "0.995418 (0.000306) with: {'learn_rate': 0.3, 'momentum': 0.9}\n"
     ]
    }
   ],
   "source": [
    "from sklearn.model_selection import GridSearchCV\n",
    "from keras.wrappers.scikit_learn import KerasClassifier\n",
    "\n",
    "\n",
    "\n",
    "def new(learn_rate = 0.01, momentum = 0):\n",
    "    model = Sequential()\n",
    "    model.add(Conv2D(8, kernel_size=(5, 5), kernel_initializer = 'glorot_uniform',activation='relu',input_shape=input_shape))\n",
    "    model.add(Conv2D(16, (5, 5), activation='relu', kernel_initializer = 'glorot_uniform'))\n",
    "    model.add(MaxPooling2D(pool_size=(2, 2)))\n",
    "    model.add(Dropout(0.40))\n",
    "    model.add(Flatten())\n",
    "    model.add(Dense(16, activation='relu'))\n",
    "    model.add(Dropout(0.30))\n",
    "    model.add(Dense(2, activation='softmax'))\n",
    "\n",
    "    model.compile(loss=keras.losses.binary_crossentropy,\n",
    "              optimizer='nadam',\n",
    "              metrics=['accuracy'])\n",
    "\n",
    "    return model\n",
    "\n",
    "\n",
    "\n",
    "model = KerasClassifier(build_fn= new, verbose=0)\n",
    "batch_size = [128, 256]\n",
    "epochs = [8, 12]\n",
    "optimizer = [\"adam\", \"nadam\", \"RMSprop\", \"Adadelta\"]\n",
    "learn_rate = [0.001, 0.01, 0.1, 0.2, 0.3]\n",
    "momentum = [0.0, 0.2, 0.4, 0.6, 0.8, 0.9]\n",
    "#dropout = [0.2, 0.35, 0.4, 0.5, 0.6]\n",
    "param_grid = dict(learn_rate = learn_rate, momentum = momentum)\n",
    "grid = GridSearchCV(estimator=model, param_grid=param_grid)\n",
    "grid_result = grid.fit(x_train, y_train)\n",
    "# summarize results\n",
    "print(\"Best: %f using %s\" % (grid_result.best_score_, grid_result.best_params_))\n",
    "means = grid_result.cv_results_['mean_test_score']\n",
    "stds = grid_result.cv_results_['std_test_score']\n",
    "params = grid_result.cv_results_['params']\n",
    "for mean, stdev, param in zip(means, stds, params):\n",
    "    print(\"%f (%f) with: %r\" % (mean, stdev, param))"
   ]
  },
  {
   "cell_type": "markdown",
   "metadata": {},
   "source": [
    "This parameter tuning actually takes a lot of computation time, so it is hihgly suggested to use some parameters using trial and error methods as well to save some time."
   ]
  },
  {
   "cell_type": "markdown",
   "metadata": {
    "collapsed": true
   },
   "source": [
    "## Building our final model\n",
    "As we have now tuned some hyperparameters from our basic model and have seen some improvement in the training accuracy score we will now use them to build our final model and see what improvement do we have on our validation accuracy and also try and plot the accuracy and the loss value in our next model.\n",
    "\n",
    "We will also use model.summary() as this gives us an inside view of our model showing us the number of parameters that our model is training on."
   ]
  },
  {
   "cell_type": "code",
   "execution_count": 12,
   "metadata": {
    "scrolled": false
   },
   "outputs": [
    {
     "name": "stdout",
     "output_type": "stream",
     "text": [
      "_________________________________________________________________\n",
      "Layer (type)                 Output Shape              Param #   \n",
      "=================================================================\n",
      "conv2d_5 (Conv2D)            (None, 24, 24, 8)         208       \n",
      "_________________________________________________________________\n",
      "conv2d_6 (Conv2D)            (None, 20, 20, 16)        3216      \n",
      "_________________________________________________________________\n",
      "max_pooling2d_3 (MaxPooling2 (None, 10, 10, 16)        0         \n",
      "_________________________________________________________________\n",
      "dropout_5 (Dropout)          (None, 10, 10, 16)        0         \n",
      "_________________________________________________________________\n",
      "flatten_3 (Flatten)          (None, 1600)              0         \n",
      "_________________________________________________________________\n",
      "dense_5 (Dense)              (None, 32)                51232     \n",
      "_________________________________________________________________\n",
      "dropout_6 (Dropout)          (None, 32)                0         \n",
      "_________________________________________________________________\n",
      "dense_6 (Dense)              (None, 2)                 66        \n",
      "=================================================================\n",
      "Total params: 54,722\n",
      "Trainable params: 54,722\n",
      "Non-trainable params: 0\n",
      "_________________________________________________________________\n",
      "None\n",
      "Train on 12223 samples, validate on 2060 samples\n",
      "Epoch 1/20\n",
      "12223/12223 [==============================] - 44s - loss: 0.2730 - acc: 0.9312 - val_loss: 0.1463 - val_acc: 0.9743\n",
      "Epoch 2/20\n",
      "12223/12223 [==============================] - 42s - loss: 0.1056 - acc: 0.9835 - val_loss: 0.0911 - val_acc: 0.9835\n",
      "Epoch 3/20\n",
      "12223/12223 [==============================] - 42s - loss: 0.0709 - acc: 0.9884 - val_loss: 0.0673 - val_acc: 0.9859\n",
      "Epoch 4/20\n",
      "12223/12223 [==============================] - 45s - loss: 0.0538 - acc: 0.9908 - val_loss: 0.0538 - val_acc: 0.9893\n",
      "Epoch 5/20\n",
      "12223/12223 [==============================] - 48s - loss: 0.0449 - acc: 0.9917 - val_loss: 0.0444 - val_acc: 0.9879\n",
      "Epoch 6/20\n",
      "12223/12223 [==============================] - 49s - loss: 0.0386 - acc: 0.9925 - val_loss: 0.0357 - val_acc: 0.9917\n",
      "Epoch 7/20\n",
      "12223/12223 [==============================] - 48s - loss: 0.0361 - acc: 0.9928 - val_loss: 0.0375 - val_acc: 0.9898\n",
      "Epoch 8/20\n",
      "12223/12223 [==============================] - 49s - loss: 0.0297 - acc: 0.9939 - val_loss: 0.0292 - val_acc: 0.9913\n",
      "Epoch 9/20\n",
      "12223/12223 [==============================] - 44s - loss: 0.0293 - acc: 0.9932 - val_loss: 0.0263 - val_acc: 0.9913\n",
      "Epoch 10/20\n",
      "12223/12223 [==============================] - 43s - loss: 0.0282 - acc: 0.9936 - val_loss: 0.0250 - val_acc: 0.9922\n",
      "Epoch 11/20\n",
      "12223/12223 [==============================] - 42s - loss: 0.0292 - acc: 0.9936 - val_loss: 0.0331 - val_acc: 0.9903\n",
      "Epoch 12/20\n",
      "12223/12223 [==============================] - 43s - loss: 0.0267 - acc: 0.9939 - val_loss: 0.0267 - val_acc: 0.9932\n",
      "Epoch 13/20\n",
      "12223/12223 [==============================] - 48s - loss: 0.0231 - acc: 0.9954 - val_loss: 0.0262 - val_acc: 0.9917\n",
      "Epoch 14/20\n",
      "12223/12223 [==============================] - 43s - loss: 0.0236 - acc: 0.9948 - val_loss: 0.0205 - val_acc: 0.9927\n",
      "Epoch 15/20\n",
      "12223/12223 [==============================] - 46s - loss: 0.0241 - acc: 0.9942 - val_loss: 0.0220 - val_acc: 0.9932\n",
      "Epoch 16/20\n",
      "12223/12223 [==============================] - 45s - loss: 0.0228 - acc: 0.9948 - val_loss: 0.0247 - val_acc: 0.9937\n",
      "Epoch 17/20\n",
      "12223/12223 [==============================] - 43s - loss: 0.0211 - acc: 0.9950 - val_loss: 0.0223 - val_acc: 0.9932\n",
      "Epoch 18/20\n",
      "12223/12223 [==============================] - 43s - loss: 0.0200 - acc: 0.9962 - val_loss: 0.0258 - val_acc: 0.9932\n",
      "Epoch 19/20\n",
      "12223/12223 [==============================] - 44s - loss: 0.0200 - acc: 0.9955 - val_loss: 0.0247 - val_acc: 0.9937\n",
      "Epoch 20/20\n",
      "12223/12223 [==============================] - 45s - loss: 0.0204 - acc: 0.9953 - val_loss: 0.0200 - val_acc: 0.9942\n",
      "Test loss: 0.0199684860411\n",
      "Test accuracy: 0.994174757282\n",
      "dict_keys(['val_loss', 'loss', 'val_acc', 'acc'])\n"
     ]
    },
    {
     "data": {
      "image/png": "[encoded data removed]",
      "text/plain": [
       "<matplotlib.figure.Figure at 0xa84ff34f60>"
      ]
     },
     "metadata": {},
     "output_type": "display_data"
    },
    {
     "data": {
      "image/png": "[encoded data removed]",
      "text/plain": [
       "<matplotlib.figure.Figure at 0xa84e15ff28>"
      ]
     },
     "metadata": {},
     "output_type": "display_data"
    }
   ],
   "source": [
    "from keras import optimizers\n",
    "from keras import regularizers\n",
    "\n",
    "batch_size = 256\n",
    "epochs = 20\n",
    "\n",
    "\n",
    "model = Sequential()\n",
    "model.add(Conv2D(8, kernel_size=(5, 5), kernel_initializer = 'glorot_uniform', activation='relu',input_shape=input_shape))\n",
    "\n",
    "model.add(Conv2D(16, (5, 5), activation='relu', kernel_initializer = 'glorot_uniform', kernel_regularizer = regularizers.l2(0.01), bias_regularizer = regularizers.l2(0.01)))\n",
    "\n",
    "model.add(MaxPooling2D(pool_size=(2, 2)))\n",
    "\n",
    "model.add(Dropout(0.30))\n",
    "model.add(Flatten())\n",
    "model.add(Dense(32, activation='relu'))\n",
    "model.add(Dropout(0.50))\n",
    "model.add(Dense(2, activation='softmax'))\n",
    "#adam = optimizers.nadam(lr = 0.2)\n",
    "model.compile(loss=keras.losses.categorical_crossentropy,\n",
    "               \n",
    "              optimizer = 'adam',\n",
    "              metrics=['accuracy'])\n",
    "\n",
    "\n",
    "print(model.summary())\n",
    "\n",
    "history = model.fit(x_train, y_train,\n",
    "          batch_size=batch_size,\n",
    "          epochs=epochs,\n",
    "          verbose=1,\n",
    "          validation_data=(x_test, y_test))\n",
    "score = model.evaluate(x_test, y_test, verbose=0)\n",
    "print('Test loss:', score[0])\n",
    "print('Test accuracy:', score[1])  \n",
    "\n",
    "print(history.history.keys())\n",
    "# summarize history for accuracy\n",
    "plt.plot(history.history['acc'])\n",
    "plt.plot(history.history['val_acc'])\n",
    "plt.title('model accuracy')\n",
    "plt.ylabel('accuracy')\n",
    "plt.xlabel('epoch')\n",
    "plt.legend(['train', 'test'], loc='upper left')\n",
    "plt.show()\n",
    "# summarize history for loss\n",
    "plt.plot(history.history['loss'])\n",
    "plt.plot(history.history['val_loss'])\n",
    "plt.title('model loss')\n",
    "plt.ylabel('loss')\n",
    "plt.xlabel('epoch')\n",
    "plt.legend(['train', 'test'], loc='upper left')\n",
    "plt.show()"
   ]
  },
  {
   "cell_type": "markdown",
   "metadata": {
    "collapsed": true
   },
   "source": [
    "We can actually see some nice results here as we have improved the validation accuracy of our model to a great extent and also have the loss of our training and validation data nearly equal which shows we are on a good track. The training and validation accuracy also dont have a big difference between them which shows us that we are not overfitting or underfitting the data. Tuning more parameters can help us achieve better performance."
   ]
  }
 ],
 "metadata": {
  "anaconda-cloud": {},
  "kernelspec": {
   "display_name": "Python [conda root]",
   "language": "python",
   "name": "conda-root-py"
  },
  "language_info": {
   "codemirror_mode": {
    "name": "ipython",
    "version": 3
   },
   "file_extension": ".py",
   "mimetype": "text/x-python",
   "name": "python",
   "nbconvert_exporter": "python",
   "pygments_lexer": "ipython3",
   "version": "3.5.3"
  }
 },
 "nbformat": 4,
 "nbformat_minor": 2
}
