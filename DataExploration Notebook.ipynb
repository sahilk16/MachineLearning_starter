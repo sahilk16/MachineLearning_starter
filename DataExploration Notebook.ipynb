{
 "cells": [
  {
   "cell_type": "markdown",
   "metadata": {},
   "source": [
    "# Data Exploration Notebook\n",
    "   In this Notebbok we will see all the concepts related to Data Exploration and Data Cleaning which account to the 70% of the  time you spent in Machine learning problems. \n",
    "# Problem Statement:\n",
    "   The problem we are considering is a Loan prediction problem where a bank wants to automate its loan eligibility process so as to save time and cost. We are provided with a training set with some predictor variables which we will se in the notebook and the target variable(y) on which we will explore and try to find some meaningful insights and build our model. Then we have a Testing set on which we have to predict whether the customer is eligible for loan or not. This is a Binary classification problem as it has two classes, is not eligible(0) or is eligible(1) for loan. We want to classify customers according to these two classes."
   ]
  },
  {
   "cell_type": "code",
   "execution_count": 2,
   "metadata": {
    "collapsed": false
   },
   "outputs": [],
   "source": [
    "#importing all the necessary libraries required for the model\n",
    "import numpy as np #for linear algebra\n",
    "import pandas as pd #data processing, reading files etc\n",
    "import matplotlib.pyplot as plt # for data visualization\n",
    "%matplotlib inline \n",
    "plt.style.use(\"ggplot\")  #uses the style of ggplot2 which is a R library, but is now available in python as ggplot\n",
    "\n",
    "\n",
    "#importing the files\n",
    "\n",
    "train = pd.read_csv(\"C:/Users/fr5424/Data/AnalyticsVidya/Loan_prediction_problem/train.csv\", index_col = 0)\n",
    "test = pd.read_csv(\"C:/Users/fr5424/Data/AnalyticsVidya/Loan_prediction_problem/test.csv\", index_col = 0)"
   ]
  },
  {
   "cell_type": "markdown",
   "metadata": {},
   "source": [
    "Lets begin with the Data Exploration part of this datset"
   ]
  },
  {
   "cell_type": "code",
   "execution_count": 3,
   "metadata": {
    "collapsed": false
   },
   "outputs": [
    {
     "data": {
      "text/html": [
       "<div>\n",
       "<table border=\"1\" class=\"dataframe\">\n",
       "  <thead>\n",
       "    <tr style=\"text-align: right;\">\n",
       "      <th></th>\n",
       "      <th>Gender</th>\n",
       "      <th>Married</th>\n",
       "      <th>Dependents</th>\n",
       "      <th>Education</th>\n",
       "      <th>Self_Employed</th>\n",
       "      <th>ApplicantIncome</th>\n",
       "      <th>CoapplicantIncome</th>\n",
       "      <th>LoanAmount</th>\n",
       "      <th>Loan_Amount_Term</th>\n",
       "      <th>Credit_History</th>\n",
       "      <th>Property_Area</th>\n",
       "      <th>Loan_Status</th>\n",
       "    </tr>\n",
       "    <tr>\n",
       "      <th>Loan_ID</th>\n",
       "      <th></th>\n",
       "      <th></th>\n",
       "      <th></th>\n",
       "      <th></th>\n",
       "      <th></th>\n",
       "      <th></th>\n",
       "      <th></th>\n",
       "      <th></th>\n",
       "      <th></th>\n",
       "      <th></th>\n",
       "      <th></th>\n",
       "      <th></th>\n",
       "    </tr>\n",
       "  </thead>\n",
       "  <tbody>\n",
       "    <tr>\n",
       "      <th>LP001002</th>\n",
       "      <td>Male</td>\n",
       "      <td>No</td>\n",
       "      <td>0</td>\n",
       "      <td>Graduate</td>\n",
       "      <td>No</td>\n",
       "      <td>5849</td>\n",
       "      <td>0.0</td>\n",
       "      <td>NaN</td>\n",
       "      <td>360.0</td>\n",
       "      <td>1.0</td>\n",
       "      <td>Urban</td>\n",
       "      <td>Y</td>\n",
       "    </tr>\n",
       "    <tr>\n",
       "      <th>LP001003</th>\n",
       "      <td>Male</td>\n",
       "      <td>Yes</td>\n",
       "      <td>1</td>\n",
       "      <td>Graduate</td>\n",
       "      <td>No</td>\n",
       "      <td>4583</td>\n",
       "      <td>1508.0</td>\n",
       "      <td>128.0</td>\n",
       "      <td>360.0</td>\n",
       "      <td>1.0</td>\n",
       "      <td>Rural</td>\n",
       "      <td>N</td>\n",
       "    </tr>\n",
       "    <tr>\n",
       "      <th>LP001005</th>\n",
       "      <td>Male</td>\n",
       "      <td>Yes</td>\n",
       "      <td>0</td>\n",
       "      <td>Graduate</td>\n",
       "      <td>Yes</td>\n",
       "      <td>3000</td>\n",
       "      <td>0.0</td>\n",
       "      <td>66.0</td>\n",
       "      <td>360.0</td>\n",
       "      <td>1.0</td>\n",
       "      <td>Urban</td>\n",
       "      <td>Y</td>\n",
       "    </tr>\n",
       "    <tr>\n",
       "      <th>LP001006</th>\n",
       "      <td>Male</td>\n",
       "      <td>Yes</td>\n",
       "      <td>0</td>\n",
       "      <td>Not Graduate</td>\n",
       "      <td>No</td>\n",
       "      <td>2583</td>\n",
       "      <td>2358.0</td>\n",
       "      <td>120.0</td>\n",
       "      <td>360.0</td>\n",
       "      <td>1.0</td>\n",
       "      <td>Urban</td>\n",
       "      <td>Y</td>\n",
       "    </tr>\n",
       "    <tr>\n",
       "      <th>LP001008</th>\n",
       "      <td>Male</td>\n",
       "      <td>No</td>\n",
       "      <td>0</td>\n",
       "      <td>Graduate</td>\n",
       "      <td>No</td>\n",
       "      <td>6000</td>\n",
       "      <td>0.0</td>\n",
       "      <td>141.0</td>\n",
       "      <td>360.0</td>\n",
       "      <td>1.0</td>\n",
       "      <td>Urban</td>\n",
       "      <td>Y</td>\n",
       "    </tr>\n",
       "    <tr>\n",
       "      <th>LP001011</th>\n",
       "      <td>Male</td>\n",
       "      <td>Yes</td>\n",
       "      <td>2</td>\n",
       "      <td>Graduate</td>\n",
       "      <td>Yes</td>\n",
       "      <td>5417</td>\n",
       "      <td>4196.0</td>\n",
       "      <td>267.0</td>\n",
       "      <td>360.0</td>\n",
       "      <td>1.0</td>\n",
       "      <td>Urban</td>\n",
       "      <td>Y</td>\n",
       "    </tr>\n",
       "    <tr>\n",
       "      <th>LP001013</th>\n",
       "      <td>Male</td>\n",
       "      <td>Yes</td>\n",
       "      <td>0</td>\n",
       "      <td>Not Graduate</td>\n",
       "      <td>No</td>\n",
       "      <td>2333</td>\n",
       "      <td>1516.0</td>\n",
       "      <td>95.0</td>\n",
       "      <td>360.0</td>\n",
       "      <td>1.0</td>\n",
       "      <td>Urban</td>\n",
       "      <td>Y</td>\n",
       "    </tr>\n",
       "    <tr>\n",
       "      <th>LP001014</th>\n",
       "      <td>Male</td>\n",
       "      <td>Yes</td>\n",
       "      <td>3+</td>\n",
       "      <td>Graduate</td>\n",
       "      <td>No</td>\n",
       "      <td>3036</td>\n",
       "      <td>2504.0</td>\n",
       "      <td>158.0</td>\n",
       "      <td>360.0</td>\n",
       "      <td>0.0</td>\n",
       "      <td>Semiurban</td>\n",
       "      <td>N</td>\n",
       "    </tr>\n",
       "    <tr>\n",
       "      <th>LP001018</th>\n",
       "      <td>Male</td>\n",
       "      <td>Yes</td>\n",
       "      <td>2</td>\n",
       "      <td>Graduate</td>\n",
       "      <td>No</td>\n",
       "      <td>4006</td>\n",
       "      <td>1526.0</td>\n",
       "      <td>168.0</td>\n",
       "      <td>360.0</td>\n",
       "      <td>1.0</td>\n",
       "      <td>Urban</td>\n",
       "      <td>Y</td>\n",
       "    </tr>\n",
       "    <tr>\n",
       "      <th>LP001020</th>\n",
       "      <td>Male</td>\n",
       "      <td>Yes</td>\n",
       "      <td>1</td>\n",
       "      <td>Graduate</td>\n",
       "      <td>No</td>\n",
       "      <td>12841</td>\n",
       "      <td>10968.0</td>\n",
       "      <td>349.0</td>\n",
       "      <td>360.0</td>\n",
       "      <td>1.0</td>\n",
       "      <td>Semiurban</td>\n",
       "      <td>N</td>\n",
       "    </tr>\n",
       "  </tbody>\n",
       "</table>\n",
       "</div>"
      ],
      "text/plain": [
       "         Gender Married Dependents     Education Self_Employed  \\\n",
       "Loan_ID                                                          \n",
       "LP001002   Male      No          0      Graduate            No   \n",
       "LP001003   Male     Yes          1      Graduate            No   \n",
       "LP001005   Male     Yes          0      Graduate           Yes   \n",
       "LP001006   Male     Yes          0  Not Graduate            No   \n",
       "LP001008   Male      No          0      Graduate            No   \n",
       "LP001011   Male     Yes          2      Graduate           Yes   \n",
       "LP001013   Male     Yes          0  Not Graduate            No   \n",
       "LP001014   Male     Yes         3+      Graduate            No   \n",
       "LP001018   Male     Yes          2      Graduate            No   \n",
       "LP001020   Male     Yes          1      Graduate            No   \n",
       "\n",
       "          ApplicantIncome  CoapplicantIncome  LoanAmount  Loan_Amount_Term  \\\n",
       "Loan_ID                                                                      \n",
       "LP001002             5849                0.0         NaN             360.0   \n",
       "LP001003             4583             1508.0       128.0             360.0   \n",
       "LP001005             3000                0.0        66.0             360.0   \n",
       "LP001006             2583             2358.0       120.0             360.0   \n",
       "LP001008             6000                0.0       141.0             360.0   \n",
       "LP001011             5417             4196.0       267.0             360.0   \n",
       "LP001013             2333             1516.0        95.0             360.0   \n",
       "LP001014             3036             2504.0       158.0             360.0   \n",
       "LP001018             4006             1526.0       168.0             360.0   \n",
       "LP001020            12841            10968.0       349.0             360.0   \n",
       "\n",
       "          Credit_History Property_Area Loan_Status  \n",
       "Loan_ID                                             \n",
       "LP001002             1.0         Urban           Y  \n",
       "LP001003             1.0         Rural           N  \n",
       "LP001005             1.0         Urban           Y  \n",
       "LP001006             1.0         Urban           Y  \n",
       "LP001008             1.0         Urban           Y  \n",
       "LP001011             1.0         Urban           Y  \n",
       "LP001013             1.0         Urban           Y  \n",
       "LP001014             0.0     Semiurban           N  \n",
       "LP001018             1.0         Urban           Y  \n",
       "LP001020             1.0     Semiurban           N  "
      ]
     },
     "execution_count": 3,
     "metadata": {},
     "output_type": "execute_result"
    }
   ],
   "source": [
    "#to check what all are the columns in the dataset\n",
    "train.head(10)"
   ]
  },
  {
   "cell_type": "code",
   "execution_count": 4,
   "metadata": {
    "collapsed": false
   },
   "outputs": [
    {
     "data": {
      "text/html": [
       "<div>\n",
       "<table border=\"1\" class=\"dataframe\">\n",
       "  <thead>\n",
       "    <tr style=\"text-align: right;\">\n",
       "      <th></th>\n",
       "      <th>Gender</th>\n",
       "      <th>Married</th>\n",
       "      <th>Dependents</th>\n",
       "      <th>Education</th>\n",
       "      <th>Self_Employed</th>\n",
       "      <th>ApplicantIncome</th>\n",
       "      <th>CoapplicantIncome</th>\n",
       "      <th>LoanAmount</th>\n",
       "      <th>Loan_Amount_Term</th>\n",
       "      <th>Credit_History</th>\n",
       "      <th>Property_Area</th>\n",
       "    </tr>\n",
       "    <tr>\n",
       "      <th>Loan_ID</th>\n",
       "      <th></th>\n",
       "      <th></th>\n",
       "      <th></th>\n",
       "      <th></th>\n",
       "      <th></th>\n",
       "      <th></th>\n",
       "      <th></th>\n",
       "      <th></th>\n",
       "      <th></th>\n",
       "      <th></th>\n",
       "      <th></th>\n",
       "    </tr>\n",
       "  </thead>\n",
       "  <tbody>\n",
       "    <tr>\n",
       "      <th>LP001015</th>\n",
       "      <td>Male</td>\n",
       "      <td>Yes</td>\n",
       "      <td>0</td>\n",
       "      <td>Graduate</td>\n",
       "      <td>No</td>\n",
       "      <td>5720</td>\n",
       "      <td>0</td>\n",
       "      <td>110.0</td>\n",
       "      <td>360.0</td>\n",
       "      <td>1.0</td>\n",
       "      <td>Urban</td>\n",
       "    </tr>\n",
       "    <tr>\n",
       "      <th>LP001022</th>\n",
       "      <td>Male</td>\n",
       "      <td>Yes</td>\n",
       "      <td>1</td>\n",
       "      <td>Graduate</td>\n",
       "      <td>No</td>\n",
       "      <td>3076</td>\n",
       "      <td>1500</td>\n",
       "      <td>126.0</td>\n",
       "      <td>360.0</td>\n",
       "      <td>1.0</td>\n",
       "      <td>Urban</td>\n",
       "    </tr>\n",
       "    <tr>\n",
       "      <th>LP001031</th>\n",
       "      <td>Male</td>\n",
       "      <td>Yes</td>\n",
       "      <td>2</td>\n",
       "      <td>Graduate</td>\n",
       "      <td>No</td>\n",
       "      <td>5000</td>\n",
       "      <td>1800</td>\n",
       "      <td>208.0</td>\n",
       "      <td>360.0</td>\n",
       "      <td>1.0</td>\n",
       "      <td>Urban</td>\n",
       "    </tr>\n",
       "    <tr>\n",
       "      <th>LP001035</th>\n",
       "      <td>Male</td>\n",
       "      <td>Yes</td>\n",
       "      <td>2</td>\n",
       "      <td>Graduate</td>\n",
       "      <td>No</td>\n",
       "      <td>2340</td>\n",
       "      <td>2546</td>\n",
       "      <td>100.0</td>\n",
       "      <td>360.0</td>\n",
       "      <td>NaN</td>\n",
       "      <td>Urban</td>\n",
       "    </tr>\n",
       "    <tr>\n",
       "      <th>LP001051</th>\n",
       "      <td>Male</td>\n",
       "      <td>No</td>\n",
       "      <td>0</td>\n",
       "      <td>Not Graduate</td>\n",
       "      <td>No</td>\n",
       "      <td>3276</td>\n",
       "      <td>0</td>\n",
       "      <td>78.0</td>\n",
       "      <td>360.0</td>\n",
       "      <td>1.0</td>\n",
       "      <td>Urban</td>\n",
       "    </tr>\n",
       "    <tr>\n",
       "      <th>LP001054</th>\n",
       "      <td>Male</td>\n",
       "      <td>Yes</td>\n",
       "      <td>0</td>\n",
       "      <td>Not Graduate</td>\n",
       "      <td>Yes</td>\n",
       "      <td>2165</td>\n",
       "      <td>3422</td>\n",
       "      <td>152.0</td>\n",
       "      <td>360.0</td>\n",
       "      <td>1.0</td>\n",
       "      <td>Urban</td>\n",
       "    </tr>\n",
       "    <tr>\n",
       "      <th>LP001055</th>\n",
       "      <td>Female</td>\n",
       "      <td>No</td>\n",
       "      <td>1</td>\n",
       "      <td>Not Graduate</td>\n",
       "      <td>No</td>\n",
       "      <td>2226</td>\n",
       "      <td>0</td>\n",
       "      <td>59.0</td>\n",
       "      <td>360.0</td>\n",
       "      <td>1.0</td>\n",
       "      <td>Semiurban</td>\n",
       "    </tr>\n",
       "    <tr>\n",
       "      <th>LP001056</th>\n",
       "      <td>Male</td>\n",
       "      <td>Yes</td>\n",
       "      <td>2</td>\n",
       "      <td>Not Graduate</td>\n",
       "      <td>No</td>\n",
       "      <td>3881</td>\n",
       "      <td>0</td>\n",
       "      <td>147.0</td>\n",
       "      <td>360.0</td>\n",
       "      <td>0.0</td>\n",
       "      <td>Rural</td>\n",
       "    </tr>\n",
       "    <tr>\n",
       "      <th>LP001059</th>\n",
       "      <td>Male</td>\n",
       "      <td>Yes</td>\n",
       "      <td>2</td>\n",
       "      <td>Graduate</td>\n",
       "      <td>NaN</td>\n",
       "      <td>13633</td>\n",
       "      <td>0</td>\n",
       "      <td>280.0</td>\n",
       "      <td>240.0</td>\n",
       "      <td>1.0</td>\n",
       "      <td>Urban</td>\n",
       "    </tr>\n",
       "    <tr>\n",
       "      <th>LP001067</th>\n",
       "      <td>Male</td>\n",
       "      <td>No</td>\n",
       "      <td>0</td>\n",
       "      <td>Not Graduate</td>\n",
       "      <td>No</td>\n",
       "      <td>2400</td>\n",
       "      <td>2400</td>\n",
       "      <td>123.0</td>\n",
       "      <td>360.0</td>\n",
       "      <td>1.0</td>\n",
       "      <td>Semiurban</td>\n",
       "    </tr>\n",
       "  </tbody>\n",
       "</table>\n",
       "</div>"
      ],
      "text/plain": [
       "          Gender Married Dependents     Education Self_Employed  \\\n",
       "Loan_ID                                                           \n",
       "LP001015    Male     Yes          0      Graduate            No   \n",
       "LP001022    Male     Yes          1      Graduate            No   \n",
       "LP001031    Male     Yes          2      Graduate            No   \n",
       "LP001035    Male     Yes          2      Graduate            No   \n",
       "LP001051    Male      No          0  Not Graduate            No   \n",
       "LP001054    Male     Yes          0  Not Graduate           Yes   \n",
       "LP001055  Female      No          1  Not Graduate            No   \n",
       "LP001056    Male     Yes          2  Not Graduate            No   \n",
       "LP001059    Male     Yes          2      Graduate           NaN   \n",
       "LP001067    Male      No          0  Not Graduate            No   \n",
       "\n",
       "          ApplicantIncome  CoapplicantIncome  LoanAmount  Loan_Amount_Term  \\\n",
       "Loan_ID                                                                      \n",
       "LP001015             5720                  0       110.0             360.0   \n",
       "LP001022             3076               1500       126.0             360.0   \n",
       "LP001031             5000               1800       208.0             360.0   \n",
       "LP001035             2340               2546       100.0             360.0   \n",
       "LP001051             3276                  0        78.0             360.0   \n",
       "LP001054             2165               3422       152.0             360.0   \n",
       "LP001055             2226                  0        59.0             360.0   \n",
       "LP001056             3881                  0       147.0             360.0   \n",
       "LP001059            13633                  0       280.0             240.0   \n",
       "LP001067             2400               2400       123.0             360.0   \n",
       "\n",
       "          Credit_History Property_Area  \n",
       "Loan_ID                                 \n",
       "LP001015             1.0         Urban  \n",
       "LP001022             1.0         Urban  \n",
       "LP001031             1.0         Urban  \n",
       "LP001035             NaN         Urban  \n",
       "LP001051             1.0         Urban  \n",
       "LP001054             1.0         Urban  \n",
       "LP001055             1.0     Semiurban  \n",
       "LP001056             0.0         Rural  \n",
       "LP001059             1.0         Urban  \n",
       "LP001067             1.0     Semiurban  "
      ]
     },
     "execution_count": 4,
     "metadata": {},
     "output_type": "execute_result"
    }
   ],
   "source": [
    "test.head(10)"
   ]
  },
  {
   "cell_type": "code",
   "execution_count": 5,
   "metadata": {
    "collapsed": false
   },
   "outputs": [
    {
     "name": "stdout",
     "output_type": "stream",
     "text": [
      "(614, 12)\n",
      "(367, 11)\n"
     ]
    }
   ],
   "source": [
    "#checking what is the size of the training dataset and the testing dataset\n",
    "print(train.shape)\n",
    "print(test.shape)"
   ]
  },
  {
   "cell_type": "markdown",
   "metadata": {},
   "source": [
    "As you notice that there are 13 rows in the training dataset and in the test there are only 12, which tell us that 1 variable is the target variable in this case its \"Loan_Status\" - Having values Y for yes and N for No, which we have to predict in the Testing dataset - test.csv"
   ]
  },
  {
   "cell_type": "markdown",
   "metadata": {},
   "source": [
    "# Step 1: Variable Identification\n",
    "Read the description about all your Predictor variables and your target variables. Information about these can be found here:https://datahack.analyticsvidhya.com/contest/practice-problem-loan-prediction-iii/\n",
    "\n",
    "Identify the datatypes of all the predictor variables and the target variable."
   ]
  },
  {
   "cell_type": "code",
   "execution_count": 6,
   "metadata": {
    "collapsed": false
   },
   "outputs": [
    {
     "name": "stdout",
     "output_type": "stream",
     "text": [
      "<class 'pandas.core.frame.DataFrame'>\n",
      "Index: 614 entries, LP001002 to LP002990\n",
      "Data columns (total 12 columns):\n",
      "Gender               601 non-null object\n",
      "Married              611 non-null object\n",
      "Dependents           599 non-null object\n",
      "Education            614 non-null object\n",
      "Self_Employed        582 non-null object\n",
      "ApplicantIncome      614 non-null int64\n",
      "CoapplicantIncome    614 non-null float64\n",
      "LoanAmount           592 non-null float64\n",
      "Loan_Amount_Term     600 non-null float64\n",
      "Credit_History       564 non-null float64\n",
      "Property_Area        614 non-null object\n",
      "Loan_Status          614 non-null object\n",
      "dtypes: float64(4), int64(1), object(7)\n",
      "memory usage: 62.4+ KB\n"
     ]
    }
   ],
   "source": [
    "#to check the datatypes of all the variables\n",
    "train.info()"
   ]
  },
  {
   "cell_type": "markdown",
   "metadata": {},
   "source": [
    "From this we come to know what are the datatypes in our data and also the missing values that we have in our data, we will deal with missing values in the later part, first lets move on to analyze these varibles individually"
   ]
  },
  {
   "cell_type": "markdown",
   "metadata": {},
   "source": [
    "# Step2: Univariate Analysis\n",
    "In this step we try and analyze every variable individually to see its distribution etc. As this is a small dataset we can analyze every variable if possible but for large datsets we need to find groups and see which variables fall in the same group so that a complete group can be analyzed in the same manner. This saves us a lot of time\n",
    "\n",
    "We analyze continous and categorical variables differently.\n",
    "\n",
    "# Continous variables\n",
    "For continous variables we need to find the central tendency and spread of these continous variable to check what is the skew, or are they normally distributed. They are measured using statistical metrics\n",
    "\n",
    "Central Tendency : Mean, Median, Mode, Min, Max\n",
    "\n",
    "Visualization methods : Histogram, Boxplots\n"
   ]
  },
  {
   "cell_type": "code",
   "execution_count": 7,
   "metadata": {
    "collapsed": false
   },
   "outputs": [
    {
     "name": "stderr",
     "output_type": "stream",
     "text": [
      "C:\\Users\\fr5424\\AppData\\Local\\Continuum\\Anaconda3\\lib\\site-packages\\numpy\\lib\\function_base.py:3834: RuntimeWarning: Invalid value encountered in percentile\n",
      "  RuntimeWarning)\n"
     ]
    },
    {
     "data": {
      "text/html": [
       "<div>\n",
       "<table border=\"1\" class=\"dataframe\">\n",
       "  <thead>\n",
       "    <tr style=\"text-align: right;\">\n",
       "      <th></th>\n",
       "      <th>ApplicantIncome</th>\n",
       "      <th>CoapplicantIncome</th>\n",
       "      <th>LoanAmount</th>\n",
       "      <th>Loan_Amount_Term</th>\n",
       "      <th>Credit_History</th>\n",
       "    </tr>\n",
       "  </thead>\n",
       "  <tbody>\n",
       "    <tr>\n",
       "      <th>count</th>\n",
       "      <td>614.000000</td>\n",
       "      <td>614.000000</td>\n",
       "      <td>592.000000</td>\n",
       "      <td>600.00000</td>\n",
       "      <td>564.000000</td>\n",
       "    </tr>\n",
       "    <tr>\n",
       "      <th>mean</th>\n",
       "      <td>5403.459283</td>\n",
       "      <td>1621.245798</td>\n",
       "      <td>146.412162</td>\n",
       "      <td>342.00000</td>\n",
       "      <td>0.842199</td>\n",
       "    </tr>\n",
       "    <tr>\n",
       "      <th>std</th>\n",
       "      <td>6109.041673</td>\n",
       "      <td>2926.248369</td>\n",
       "      <td>85.587325</td>\n",
       "      <td>65.12041</td>\n",
       "      <td>0.364878</td>\n",
       "    </tr>\n",
       "    <tr>\n",
       "      <th>min</th>\n",
       "      <td>150.000000</td>\n",
       "      <td>0.000000</td>\n",
       "      <td>9.000000</td>\n",
       "      <td>12.00000</td>\n",
       "      <td>0.000000</td>\n",
       "    </tr>\n",
       "    <tr>\n",
       "      <th>25%</th>\n",
       "      <td>2877.500000</td>\n",
       "      <td>0.000000</td>\n",
       "      <td>NaN</td>\n",
       "      <td>NaN</td>\n",
       "      <td>NaN</td>\n",
       "    </tr>\n",
       "    <tr>\n",
       "      <th>50%</th>\n",
       "      <td>3812.500000</td>\n",
       "      <td>1188.500000</td>\n",
       "      <td>NaN</td>\n",
       "      <td>NaN</td>\n",
       "      <td>NaN</td>\n",
       "    </tr>\n",
       "    <tr>\n",
       "      <th>75%</th>\n",
       "      <td>5795.000000</td>\n",
       "      <td>2297.250000</td>\n",
       "      <td>NaN</td>\n",
       "      <td>NaN</td>\n",
       "      <td>NaN</td>\n",
       "    </tr>\n",
       "    <tr>\n",
       "      <th>max</th>\n",
       "      <td>81000.000000</td>\n",
       "      <td>41667.000000</td>\n",
       "      <td>700.000000</td>\n",
       "      <td>480.00000</td>\n",
       "      <td>1.000000</td>\n",
       "    </tr>\n",
       "  </tbody>\n",
       "</table>\n",
       "</div>"
      ],
      "text/plain": [
       "       ApplicantIncome  CoapplicantIncome  LoanAmount  Loan_Amount_Term  \\\n",
       "count       614.000000         614.000000  592.000000         600.00000   \n",
       "mean       5403.459283        1621.245798  146.412162         342.00000   \n",
       "std        6109.041673        2926.248369   85.587325          65.12041   \n",
       "min         150.000000           0.000000    9.000000          12.00000   \n",
       "25%        2877.500000           0.000000         NaN               NaN   \n",
       "50%        3812.500000        1188.500000         NaN               NaN   \n",
       "75%        5795.000000        2297.250000         NaN               NaN   \n",
       "max       81000.000000       41667.000000  700.000000         480.00000   \n",
       "\n",
       "       Credit_History  \n",
       "count      564.000000  \n",
       "mean         0.842199  \n",
       "std          0.364878  \n",
       "min          0.000000  \n",
       "25%               NaN  \n",
       "50%               NaN  \n",
       "75%               NaN  \n",
       "max          1.000000  "
      ]
     },
     "execution_count": 7,
     "metadata": {},
     "output_type": "execute_result"
    }
   ],
   "source": [
    "#Lets look at the summary of our continous variables\n",
    "train.describe()"
   ]
  },
  {
   "cell_type": "markdown",
   "metadata": {},
   "source": [
    "Its because there are some missing values in the last three columns we are not getting the percentiles, its fine we will deal with it in the later section. But we surely got what is the summary of the other two variables\"ApplicantIncome and CoapplicantIncome\"."
   ]
  },
  {
   "cell_type": "code",
   "execution_count": 8,
   "metadata": {
    "collapsed": false
   },
   "outputs": [],
   "source": [
    "#lets check the distribution of our continous variables, as the variable \"CoapplicantIncome\" is very uncertain,because many rows \n",
    "#would have this as 0 which is natural, therefore its distribution will be a bit different, so lets ignore it.\n",
    "\n",
    "plt.rcParams[\"figure.figsize\"] = (12, 6) #setting the size of graphs to be generated\n",
    "first = pd.DataFrame({\"ApplicantIncome\" : train.ApplicantIncome, \"Log_ApllicantIncome\" : np.log1p(train.ApplicantIncome)})\n",
    "\n"
   ]
  },
  {
   "cell_type": "code",
   "execution_count": 9,
   "metadata": {
    "collapsed": false
   },
   "outputs": [
    {
     "data": {
      "text/plain": [
       "array([[<matplotlib.axes._subplots.AxesSubplot object at 0x000000000941F630>,\n",
       "        <matplotlib.axes._subplots.AxesSubplot object at 0x00000000097B37B8>]], dtype=object)"
      ]
     },
     "execution_count": 9,
     "metadata": {},
     "output_type": "execute_result"
    },
    {
     "data": {
      "image/png": "[encoded data removed]",
      "text/plain": [
       "<matplotlib.figure.Figure at 0x938b4a8>"
      ]
     },
     "metadata": {},
     "output_type": "display_data"
    }
   ],
   "source": [
    "#plotting\n",
    "\n",
    "first.hist()\n"
   ]
  },
  {
   "cell_type": "markdown",
   "metadata": {},
   "source": [
    "We can see that the ApplicantIncome was not properly distributed(positive skew) but after taking the Log for all the values it seems to be normally distributed now.\n",
    "\n",
    "We should always understand what values a variable brings to the dataset, we can say that people who are not that educated can have lower incomes so lets plot that using a Box Plot, we can also visualize the effect of Gender on our Applicant income."
   ]
  },
  {
   "cell_type": "code",
   "execution_count": 10,
   "metadata": {
    "collapsed": false
   },
   "outputs": [
    {
     "data": {
      "text/plain": [
       "<matplotlib.axes._subplots.AxesSubplot at 0x99ccbe0>"
      ]
     },
     "execution_count": 10,
     "metadata": {},
     "output_type": "execute_result"
    },
    {
     "data": {
      "image/png": "[encoded data removed]",
      "text/plain": [
       "<matplotlib.figure.Figure at 0x9810b00>"
      ]
     },
     "metadata": {},
     "output_type": "display_data"
    },
    {
     "data": {
      "image/png": "[encoded data removed]",
      "text/plain": [
       "<matplotlib.figure.Figure at 0x980b828>"
      ]
     },
     "metadata": {},
     "output_type": "display_data"
    }
   ],
   "source": [
    "train.boxplot(column = \"ApplicantIncome\", by = \"Education\")\n",
    "train.boxplot(column = \"ApplicantIncome\", by = \"Gender\")"
   ]
  },
  {
   "cell_type": "markdown",
   "metadata": {},
   "source": [
    "From these two BoxPlots we can certainly say that people with who are graduates have more number of people earning greater than the mean level and also for Gender we can say that the nummber of males is greater who earn more than the mean level. These inferences can be drawn looking at the outliers in the boxplots."
   ]
  },
  {
   "cell_type": "code",
   "execution_count": 11,
   "metadata": {
    "collapsed": false
   },
   "outputs": [
    {
     "data": {
      "text/plain": [
       "<matplotlib.axes._subplots.AxesSubplot at 0x9f50be0>"
      ]
     },
     "execution_count": 11,
     "metadata": {},
     "output_type": "execute_result"
    },
    {
     "data": {
      "image/png": "[encoded data removed]",
      "text/plain": [
       "<matplotlib.figure.Figure at 0x98109e8>"
      ]
     },
     "metadata": {},
     "output_type": "display_data"
    }
   ],
   "source": [
    "#We can do this for Loan Amount as well\n",
    "\n",
    "train[\"LoanAmount\"].hist()"
   ]
  },
  {
   "cell_type": "markdown",
   "metadata": {},
   "source": [
    "LoanAmount is also not properly distributed, but we will deal with this later as it has missing values\n",
    "\n",
    "Lets check for the boxplot of Loan amount"
   ]
  },
  {
   "cell_type": "code",
   "execution_count": 12,
   "metadata": {
    "collapsed": false
   },
   "outputs": [
    {
     "data": {
      "text/plain": [
       "<matplotlib.axes._subplots.AxesSubplot at 0x97d60f0>"
      ]
     },
     "execution_count": 12,
     "metadata": {},
     "output_type": "execute_result"
    },
    {
     "data": {
      "image/png": "[encoded data removed]",
      "text/plain": [
       "<matplotlib.figure.Figure at 0xa22f198>"
      ]
     },
     "metadata": {},
     "output_type": "display_data"
    },
    {
     "data": {
      "image/png": "[encoded data removed]",
      "text/plain": [
       "<matplotlib.figure.Figure at 0xa22f160>"
      ]
     },
     "metadata": {},
     "output_type": "display_data"
    }
   ],
   "source": [
    "train.boxplot(column = \"LoanAmount\", by = \"Education\")\n",
    "train.boxplot(column = \"LoanAmount\", by = \"Gender\")"
   ]
  },
  {
   "cell_type": "markdown",
   "metadata": {},
   "source": [
    "This is very similar to the inferences we had drawn from the Applicant Income. Lets move onto Categorical Analysis\n",
    "\n",
    "# Categorical Variables\n",
    "For Categorical variable analysis we can use Frequency tables to understand them quickly,\n",
    "Frequency table can be created using the value_counts() method\n",
    "\n",
    "We can also try and use Pivot tables similar to Excel to get some information from our variables\n",
    "\n",
    "Visualization methods = BarCharts, StackedCharts"
   ]
  },
  {
   "cell_type": "code",
   "execution_count": 13,
   "metadata": {
    "collapsed": false
   },
   "outputs": [
    {
     "name": "stdout",
     "output_type": "stream",
     "text": [
      "Frequency Table for Credit History:\n",
      "0.0     89\n",
      "1.0    475\n",
      "Name: Credit_History, dtype: int64\n",
      "\n",
      "Probility of getting loan for each Credit History class:\n",
      "Credit_History\n",
      "0.0    0.078652\n",
      "1.0    0.795789\n",
      "Name: Loan_Status, dtype: float64\n"
     ]
    }
   ],
   "source": [
    "temp1 = train['Credit_History'].value_counts(ascending=True)\n",
    "temp2 = train.pivot_table(values='Loan_Status',index=['Credit_History'],aggfunc=lambda x: x.map({'Y':1,'N':0}).mean())\n",
    "print ('Frequency Table for Credit History:') \n",
    "print (temp1)\n",
    "\n",
    "print ('\\nProbility of getting loan for each Credit History class:') \n",
    "print (temp2)"
   ]
  },
  {
   "cell_type": "markdown",
   "metadata": {},
   "source": [
    "Lets see this using a Stacked Chart, tey can be created in the barchart itself but we have to use a pandas function called \"crosstab\" to tell which variables you want to include"
   ]
  },
  {
   "cell_type": "code",
   "execution_count": 14,
   "metadata": {
    "collapsed": false
   },
   "outputs": [
    {
     "data": {
      "text/plain": [
       "<matplotlib.axes._subplots.AxesSubplot at 0x9fb82e8>"
      ]
     },
     "execution_count": 14,
     "metadata": {},
     "output_type": "execute_result"
    },
    {
     "data": {
      "image/png": "[encoded data removed]",
      "text/plain": [
       "<matplotlib.figure.Figure at 0x9f9e5c0>"
      ]
     },
     "metadata": {},
     "output_type": "display_data"
    }
   ],
   "source": [
    "temp3 = pd.crosstab(train['Credit_History'], train['Loan_Status'])\n",
    "temp3.plot(kind='bar', stacked=True, color=['red','blue'], grid=False)"
   ]
  },
  {
   "cell_type": "markdown",
   "metadata": {},
   "source": [
    "This gives us a clear representation for Loan_status telling us that if your credit history is 0, you have very less chances of gettiing a loan compared to a credit history with 1"
   ]
  },
  {
   "cell_type": "markdown",
   "metadata": {},
   "source": [
    "As we are donw with Univariate Analysis, we will further move on to the Bivariate analysis\n",
    "\n",
    "# Step 3: Bivariate Analysis\n",
    "Here we look for the relation between two variables, we look for association and disassociation between variables. We perform this analysis on any combination of continous and categorical variables\n",
    "\n",
    "# Continous and Continous variables\n",
    "For doing Bivariate analysis of two continous variables, we can use scatter plots or can also use the Pearson correlation to know the correlation value. The pattern of scatter plots can also tell us how are the variables related to each other in a linear manner or in a non-linear way\n",
    "\n"
   ]
  },
  {
   "cell_type": "code",
   "execution_count": 16,
   "metadata": {
    "collapsed": false
   },
   "outputs": [
    {
     "name": "stdout",
     "output_type": "stream",
     "text": [
      "Gender and Dependents = 0.57\n"
     ]
    }
   ],
   "source": [
    "#using the Pearson correlation we can have the values to know how much are these variables related, for this we need to set a \n",
    "#threshold\n",
    "\n",
    "\n",
    "threshold = 0.5\n",
    "\n",
    "size = 5 #size of the numerical values in the dataset\n",
    "\n",
    "cols= train.columns #getting the names of all the columns in the datset \n",
    "\n",
    "num_values = train.iloc[:, 5:10] #taking in the numerical values from the dataset\n",
    "\n",
    "corr_list = []\n",
    "\n",
    "#finding corelation for the numerical values\n",
    "num_values_corr = num_values.corr()\n",
    "\n",
    "#Search for the highly correlated pairs\n",
    "for i in range(0,size): #for 'size' features\n",
    "    for j in range(i+1,size): #avoid repetition\n",
    "        if (num_values_corr.iloc[i,j] >= threshold and num_values_corr.iloc[i,j] < 1) or (num_values_corr.iloc[i,j] < 0 and num_values_corr.iloc[i,j] <= -threshold):\n",
    "            corr_list.append([num_values_corr.iloc[i,j],i,j])\n",
    "            \n",
    "#Sort to show higher ones first            \n",
    "s_corr_list = sorted(corr_list,key=lambda x: -abs(x[0]))\n",
    "\n",
    "#Print correlations and column names\n",
    "for v,i,j in s_corr_list:\n",
    "    print (\"%s and %s = %.2f\" % (cols[i],cols[j],v))"
   ]
  },
  {
   "cell_type": "markdown",
   "metadata": {},
   "source": [
    "As we see from the Pearson Correlation we only have one set of continous variables which have a correlation value above 0.5\n",
    "\n",
    "Lets try to implement this visually, You can use either a HEAT MAP from seaborn or you can use the scatter matrix from pandas"
   ]
  },
  {
   "cell_type": "code",
   "execution_count": 17,
   "metadata": {
    "collapsed": false
   },
   "outputs": [
    {
     "data": {
      "image/png": "[encoded data removed]",
      "text/plain": [
       "<matplotlib.figure.Figure at 0xa030208>"
      ]
     },
     "metadata": {},
     "output_type": "display_data"
    }
   ],
   "source": [
    "import seaborn as sns\n",
    "cols_to_use = [\"ApplicantIncome\", 'CoapplicantIncome', 'LoanAmount', 'Loan_Amount_Term', 'Credit_History']\n",
    "\n",
    "temp_df = train[cols_to_use]\n",
    "corrmat = temp_df.corr()\n",
    "f, ax = plt.subplots(figsize=(8, 8))\n",
    "\n",
    "# Draw the heatmap using seaborn\n",
    "sns.heatmap(corrmat, vmax=.8, square=True)\n",
    "plt.show()"
   ]
  },
  {
   "cell_type": "code",
   "execution_count": 18,
   "metadata": {
    "collapsed": false
   },
   "outputs": [
    {
     "data": {
      "text/plain": [
       "array([[<matplotlib.axes._subplots.AxesSubplot object at 0x000000000C573E48>,\n",
       "        <matplotlib.axes._subplots.AxesSubplot object at 0x000000000C4C6C50>,\n",
       "        <matplotlib.axes._subplots.AxesSubplot object at 0x000000000C514C88>,\n",
       "        <matplotlib.axes._subplots.AxesSubplot object at 0x000000000C5D4710>,\n",
       "        <matplotlib.axes._subplots.AxesSubplot object at 0x000000000C620710>],\n",
       "       [<matplotlib.axes._subplots.AxesSubplot object at 0x000000000A21EDA0>,\n",
       "        <matplotlib.axes._subplots.AxesSubplot object at 0x000000000A340908>,\n",
       "        <matplotlib.axes._subplots.AxesSubplot object at 0x000000000B5BFE80>,\n",
       "        <matplotlib.axes._subplots.AxesSubplot object at 0x000000000B60A828>,\n",
       "        <matplotlib.axes._subplots.AxesSubplot object at 0x000000000B62C0F0>],\n",
       "       [<matplotlib.axes._subplots.AxesSubplot object at 0x000000000B6962E8>,\n",
       "        <matplotlib.axes._subplots.AxesSubplot object at 0x000000000C66DC18>,\n",
       "        <matplotlib.axes._subplots.AxesSubplot object at 0x000000000C6AC978>,\n",
       "        <matplotlib.axes._subplots.AxesSubplot object at 0x000000000C6FA6D8>,\n",
       "        <matplotlib.axes._subplots.AxesSubplot object at 0x000000000C7385F8>],\n",
       "       [<matplotlib.axes._subplots.AxesSubplot object at 0x000000000C785908>,\n",
       "        <matplotlib.axes._subplots.AxesSubplot object at 0x000000000C7C40B8>,\n",
       "        <matplotlib.axes._subplots.AxesSubplot object at 0x000000000C8099E8>,\n",
       "        <matplotlib.axes._subplots.AxesSubplot object at 0x000000000C82DBE0>,\n",
       "        <matplotlib.axes._subplots.AxesSubplot object at 0x000000000C8973C8>],\n",
       "       [<matplotlib.axes._subplots.AxesSubplot object at 0x000000000C8DDDD8>,\n",
       "        <matplotlib.axes._subplots.AxesSubplot object at 0x000000000C91EA90>,\n",
       "        <matplotlib.axes._subplots.AxesSubplot object at 0x000000000C96A7F0>,\n",
       "        <matplotlib.axes._subplots.AxesSubplot object at 0x000000000C9A9518>,\n",
       "        <matplotlib.axes._subplots.AxesSubplot object at 0x000000000C9F0C88>]], dtype=object)"
      ]
     },
     "execution_count": 18,
     "metadata": {},
     "output_type": "execute_result"
    },
    {
     "data": {
      "image/png": "[encoded data removed]",
      "text/plain": [
       "<matplotlib.figure.Figure at 0xa028f60>"
      ]
     },
     "metadata": {},
     "output_type": "display_data"
    }
   ],
   "source": [
    "from pandas.tools.plotting import scatter_matrix\n",
    "\n",
    "scatter_matrix(train)"
   ]
  },
  {
   "cell_type": "markdown",
   "metadata": {},
   "source": [
    "We can see from the above two graphs that none of the two variables in the dataset are correlated to each other. There is no correlation at all\n",
    "\n",
    "# Categorical and Continous variable\n",
    "For finding some interesting associations between categorical variables we can use Two way table or the Stacked Column chart which is what we did in the Univariate analysis with- ApplicationIncome and Gender\n",
    "\n",
    "We can also perform the chi-square test to check the relation between the two categorical variables. it is given by the formula\n",
    "\n",
    "  X**2 = SUM (Observed - Expected)**2/ Expected"
   ]
  },
  {
   "cell_type": "code",
   "execution_count": 19,
   "metadata": {
    "collapsed": false
   },
   "outputs": [
    {
     "name": "stdout",
     "output_type": "stream",
     "text": [
      "(7.073556821727129, 0.31409827839082988, 6, array([[ 101.94490818,   30.14023372,   29.84474124,   15.07011686],\n",
      "       [ 130.74290484,   38.65442404,   38.2754591 ,   19.32721202],\n",
      "       [ 112.31218698,   33.20534224,   32.87979967,   16.60267112]]))\n"
     ]
    }
   ],
   "source": [
    "#lets do the Chi-square test\n",
    "\n",
    "from scipy.stats import chi2_contingency\n",
    "\n",
    "\n",
    "first = pd.crosstab(train.Property_Area, train.Dependents)\n",
    "chi = chi2_contingency(first)\n",
    "print(chi)"
   ]
  },
  {
   "cell_type": "markdown",
   "metadata": {},
   "source": [
    "An observation is only called statistically significant when the p-value is less than 0.05, as the value in this case(0.3140) is greater than that we can easily say that these values are not statistically significant\n",
    "\n",
    "We will try these for some variables which we think can have some relationship"
   ]
  },
  {
   "cell_type": "code",
   "execution_count": 20,
   "metadata": {
    "collapsed": false
   },
   "outputs": [
    {
     "name": "stdout",
     "output_type": "stream",
     "text": [
      "(81.937623101065711, 1.1785811086969576e-17, 3, array([[ 120.37562604,   35.58931553,   35.24040067,   17.79465776],\n",
      "       [ 224.62437396,   66.41068447,   65.75959933,   33.20534224]]))\n"
     ]
    }
   ],
   "source": [
    "second = pd.crosstab(train.Married, train.Dependents)\n",
    "chi = chi2_contingency(second)\n",
    "print(chi)"
   ]
  },
  {
   "cell_type": "markdown",
   "metadata": {},
   "source": [
    "The p-value test here shows us that these variables are statistically significant and somewhat associated to each other. This can be helpful for us in Feature Engineering"
   ]
  },
  {
   "cell_type": "markdown",
   "metadata": {},
   "source": [
    "# Categorical and Continous Variables\n",
    "For categorical and continuous variables, we can draw box plots for each level of categorical variables. If levels are small in number, it will not show the statistical significance. To look at the statistical significance we can perform Z-test, T-test or ANOVA. \n",
    "\n",
    "## Z-test / T-test\n",
    " Either of these tests assess whether mean of two groups are statistically different from each other or not.\n",
    " You can chose any of the test, but T-test is mostly used when the number of observations for both the categories is less than 30\n",
    " \n",
    "## Anova \n",
    " It assess whether the average of more than two groups is statistically different. It helps you compare many variables at the same time which is not possible in T-test.\n",
    "\n",
    "Using the word correlation for this type of analysis is wrong as Correlation is defined by mean and categorical variables dont have mean, so we can call it as Association. "
   ]
  },
  {
   "cell_type": "markdown",
   "metadata": {},
   "source": [
    "# Step3: Missing Value treatment\n",
    "This is a part of the Data Cleaning process, where we have many values in our dataset which are missing. The datset can have missing value for reasons like some error while Data extraction or while Data collection etc.\n",
    "\n",
    "If we dont treat these missing values it can result in decreasing the model power to a great extent or can result in biased models as we have not analysed the behaviour and relationship of other variables correctly.\n",
    "\n",
    "\n",
    "From here on , we will be dealing with both the datasets training and testing. \n",
    "\n",
    "We will some methods to treat these missing values in the dataset\n",
    "\n",
    "## Deletion\n",
    "We can certainly delete the rows which have missing values in them, this is feasible if the percentage of missing values is less and you have a huge amount of data. Though we should avoid this but sometimes it can be used.\n",
    "Deletion can result in loss of some valuable data in other variables which could have been useful for the model. \n",
    "\n",
    "This method is usually not preferred.\n",
    "\n",
    "## Mean, Mode, Median Imputation\n",
    "Imputation method is the process of imputing values with some estimated ones.It consists of replacing the missing data for a given attribute by the mean or median (quantitative attribute) or mode (qualitative attribute) of all known values of that variable. \n",
    "\n",
    "This is the most frequently used method which we should prefer as its time saving and also can be done quickly.\n",
    "\n",
    "## Prediction Model\n",
    "We can treat the missing data separately as a target variable and create a separate prediction model to predict these missing values. This is however a very tedious task and also the predicted values are well behaved than the normal valus in the variable. Can be done but is not preferred\n",
    "\n",
    "## Using KNN imputation\n",
    "In this method of imputation, the missing values of an attribute are imputed using the given number of attributes that are most similar to the attribute whose values are missing(KNN algorithm). its good but is very time consuming for large datasets"
   ]
  },
  {
   "cell_type": "code",
   "execution_count": 21,
   "metadata": {
    "collapsed": false
   },
   "outputs": [
    {
     "name": "stdout",
     "output_type": "stream",
     "text": [
      "Gender               13\n",
      "Married               3\n",
      "Dependents           15\n",
      "Education             0\n",
      "Self_Employed        32\n",
      "ApplicantIncome       0\n",
      "CoapplicantIncome     0\n",
      "LoanAmount           22\n",
      "Loan_Amount_Term     14\n",
      "Credit_History       50\n",
      "Property_Area         0\n",
      "Loan_Status           0\n",
      "dtype: int64\n",
      "******************\n",
      "Gender               11\n",
      "Married               0\n",
      "Dependents           10\n",
      "Education             0\n",
      "Self_Employed        23\n",
      "ApplicantIncome       0\n",
      "CoapplicantIncome     0\n",
      "LoanAmount            5\n",
      "Loan_Amount_Term      6\n",
      "Credit_History       29\n",
      "Property_Area         0\n",
      "dtype: int64\n"
     ]
    }
   ],
   "source": [
    "#to check the number of missing values in the dataset\n",
    "print(train.isnull().sum())\n",
    "print(\"******************\")\n",
    "print(test.isnull().sum())"
   ]
  },
  {
   "cell_type": "code",
   "execution_count": 22,
   "metadata": {
    "collapsed": true
   },
   "outputs": [],
   "source": [
    "#now lets first deal with the continous variables in the dataset\n",
    "\n",
    "#LoanAmount has some missing values, lets impute the mean of that particular variable into the missing values and for \n",
    "#Loan_Amount_term we will imputer the mode(most frequent value in the particular datas\n",
    "train.LoanAmount.fillna(train.LoanAmount.mean(), inplace = True)\n",
    "test.LoanAmount.fillna(test.LoanAmount.mean(), inplace = True)"
   ]
  },
  {
   "cell_type": "code",
   "execution_count": 23,
   "metadata": {
    "collapsed": true
   },
   "outputs": [],
   "source": [
    "train.Loan_Amount_Term.fillna(\"360\", inplace = True)\n",
    "test.Loan_Amount_Term.fillna(\"360\", inplace = True)"
   ]
  },
  {
   "cell_type": "code",
   "execution_count": 24,
   "metadata": {
    "collapsed": false
   },
   "outputs": [
    {
     "data": {
      "text/html": [
       "<div>\n",
       "<table border=\"1\" class=\"dataframe\">\n",
       "  <thead>\n",
       "    <tr style=\"text-align: right;\">\n",
       "      <th></th>\n",
       "      <th>Gender</th>\n",
       "      <th>Married</th>\n",
       "      <th>Dependents</th>\n",
       "      <th>Education</th>\n",
       "      <th>Self_Employed</th>\n",
       "      <th>ApplicantIncome</th>\n",
       "      <th>CoapplicantIncome</th>\n",
       "      <th>LoanAmount</th>\n",
       "      <th>Loan_Amount_Term</th>\n",
       "      <th>Credit_History</th>\n",
       "      <th>Property_Area</th>\n",
       "    </tr>\n",
       "    <tr>\n",
       "      <th>Loan_ID</th>\n",
       "      <th></th>\n",
       "      <th></th>\n",
       "      <th></th>\n",
       "      <th></th>\n",
       "      <th></th>\n",
       "      <th></th>\n",
       "      <th></th>\n",
       "      <th></th>\n",
       "      <th></th>\n",
       "      <th></th>\n",
       "      <th></th>\n",
       "    </tr>\n",
       "  </thead>\n",
       "  <tbody>\n",
       "    <tr>\n",
       "      <th>LP001015</th>\n",
       "      <td>Male</td>\n",
       "      <td>Yes</td>\n",
       "      <td>0</td>\n",
       "      <td>Graduate</td>\n",
       "      <td>No</td>\n",
       "      <td>5720</td>\n",
       "      <td>0</td>\n",
       "      <td>110.0</td>\n",
       "      <td>360</td>\n",
       "      <td>1.0</td>\n",
       "      <td>Urban</td>\n",
       "    </tr>\n",
       "    <tr>\n",
       "      <th>LP001022</th>\n",
       "      <td>Male</td>\n",
       "      <td>Yes</td>\n",
       "      <td>1</td>\n",
       "      <td>Graduate</td>\n",
       "      <td>No</td>\n",
       "      <td>3076</td>\n",
       "      <td>1500</td>\n",
       "      <td>126.0</td>\n",
       "      <td>360</td>\n",
       "      <td>1.0</td>\n",
       "      <td>Urban</td>\n",
       "    </tr>\n",
       "    <tr>\n",
       "      <th>LP001031</th>\n",
       "      <td>Male</td>\n",
       "      <td>Yes</td>\n",
       "      <td>2</td>\n",
       "      <td>Graduate</td>\n",
       "      <td>No</td>\n",
       "      <td>5000</td>\n",
       "      <td>1800</td>\n",
       "      <td>208.0</td>\n",
       "      <td>360</td>\n",
       "      <td>1.0</td>\n",
       "      <td>Urban</td>\n",
       "    </tr>\n",
       "    <tr>\n",
       "      <th>LP001035</th>\n",
       "      <td>Male</td>\n",
       "      <td>Yes</td>\n",
       "      <td>2</td>\n",
       "      <td>Graduate</td>\n",
       "      <td>No</td>\n",
       "      <td>2340</td>\n",
       "      <td>2546</td>\n",
       "      <td>100.0</td>\n",
       "      <td>360</td>\n",
       "      <td>NaN</td>\n",
       "      <td>Urban</td>\n",
       "    </tr>\n",
       "    <tr>\n",
       "      <th>LP001051</th>\n",
       "      <td>Male</td>\n",
       "      <td>No</td>\n",
       "      <td>0</td>\n",
       "      <td>Not Graduate</td>\n",
       "      <td>No</td>\n",
       "      <td>3276</td>\n",
       "      <td>0</td>\n",
       "      <td>78.0</td>\n",
       "      <td>360</td>\n",
       "      <td>1.0</td>\n",
       "      <td>Urban</td>\n",
       "    </tr>\n",
       "  </tbody>\n",
       "</table>\n",
       "</div>"
      ],
      "text/plain": [
       "         Gender Married Dependents     Education Self_Employed  \\\n",
       "Loan_ID                                                          \n",
       "LP001015   Male     Yes          0      Graduate            No   \n",
       "LP001022   Male     Yes          1      Graduate            No   \n",
       "LP001031   Male     Yes          2      Graduate            No   \n",
       "LP001035   Male     Yes          2      Graduate            No   \n",
       "LP001051   Male      No          0  Not Graduate            No   \n",
       "\n",
       "          ApplicantIncome  CoapplicantIncome  LoanAmount Loan_Amount_Term  \\\n",
       "Loan_ID                                                                     \n",
       "LP001015             5720                  0       110.0              360   \n",
       "LP001022             3076               1500       126.0              360   \n",
       "LP001031             5000               1800       208.0              360   \n",
       "LP001035             2340               2546       100.0              360   \n",
       "LP001051             3276                  0        78.0              360   \n",
       "\n",
       "          Credit_History Property_Area  \n",
       "Loan_ID                                 \n",
       "LP001015             1.0         Urban  \n",
       "LP001022             1.0         Urban  \n",
       "LP001031             1.0         Urban  \n",
       "LP001035             NaN         Urban  \n",
       "LP001051             1.0         Urban  "
      ]
     },
     "execution_count": 24,
     "metadata": {},
     "output_type": "execute_result"
    }
   ],
   "source": [
    "test.head()"
   ]
  },
  {
   "cell_type": "code",
   "execution_count": 25,
   "metadata": {
    "collapsed": true
   },
   "outputs": [],
   "source": [
    "#For credit history, as we had seen that the the value of credit history has a great impact on Loan_status, we will replace the\n",
    "#missing values with the most used value in the variable\n",
    "\n",
    "train.Credit_History.fillna(\"1\", inplace = True)\n",
    "test.Credit_History.fillna(\"1\", inplace = True)"
   ]
  },
  {
   "cell_type": "markdown",
   "metadata": {},
   "source": [
    "You can also do some conditional imputations, if you find some interesting relations or associations in the data, SQL can be used for it as its very easy and can help you solve these conditional problems with a single query"
   ]
  },
  {
   "cell_type": "code",
   "execution_count": 26,
   "metadata": {
    "collapsed": false
   },
   "outputs": [
    {
     "data": {
      "text/html": [
       "<div>\n",
       "<table border=\"1\" class=\"dataframe\">\n",
       "  <thead>\n",
       "    <tr style=\"text-align: right;\">\n",
       "      <th></th>\n",
       "      <th>Gender</th>\n",
       "      <th>Married</th>\n",
       "      <th>Dependents</th>\n",
       "      <th>Education</th>\n",
       "      <th>Self_Employed</th>\n",
       "      <th>ApplicantIncome</th>\n",
       "      <th>CoapplicantIncome</th>\n",
       "      <th>LoanAmount</th>\n",
       "      <th>Loan_Amount_Term</th>\n",
       "      <th>Credit_History</th>\n",
       "      <th>Property_Area</th>\n",
       "    </tr>\n",
       "    <tr>\n",
       "      <th>Loan_ID</th>\n",
       "      <th></th>\n",
       "      <th></th>\n",
       "      <th></th>\n",
       "      <th></th>\n",
       "      <th></th>\n",
       "      <th></th>\n",
       "      <th></th>\n",
       "      <th></th>\n",
       "      <th></th>\n",
       "      <th></th>\n",
       "      <th></th>\n",
       "    </tr>\n",
       "  </thead>\n",
       "  <tbody>\n",
       "    <tr>\n",
       "      <th>LP001015</th>\n",
       "      <td>Male</td>\n",
       "      <td>Yes</td>\n",
       "      <td>0</td>\n",
       "      <td>Graduate</td>\n",
       "      <td>No</td>\n",
       "      <td>5720</td>\n",
       "      <td>0</td>\n",
       "      <td>110.0</td>\n",
       "      <td>360</td>\n",
       "      <td>1</td>\n",
       "      <td>Urban</td>\n",
       "    </tr>\n",
       "    <tr>\n",
       "      <th>LP001022</th>\n",
       "      <td>Male</td>\n",
       "      <td>Yes</td>\n",
       "      <td>1</td>\n",
       "      <td>Graduate</td>\n",
       "      <td>No</td>\n",
       "      <td>3076</td>\n",
       "      <td>1500</td>\n",
       "      <td>126.0</td>\n",
       "      <td>360</td>\n",
       "      <td>1</td>\n",
       "      <td>Urban</td>\n",
       "    </tr>\n",
       "    <tr>\n",
       "      <th>LP001031</th>\n",
       "      <td>Male</td>\n",
       "      <td>Yes</td>\n",
       "      <td>2</td>\n",
       "      <td>Graduate</td>\n",
       "      <td>No</td>\n",
       "      <td>5000</td>\n",
       "      <td>1800</td>\n",
       "      <td>208.0</td>\n",
       "      <td>360</td>\n",
       "      <td>1</td>\n",
       "      <td>Urban</td>\n",
       "    </tr>\n",
       "    <tr>\n",
       "      <th>LP001035</th>\n",
       "      <td>Male</td>\n",
       "      <td>Yes</td>\n",
       "      <td>2</td>\n",
       "      <td>Graduate</td>\n",
       "      <td>No</td>\n",
       "      <td>2340</td>\n",
       "      <td>2546</td>\n",
       "      <td>100.0</td>\n",
       "      <td>360</td>\n",
       "      <td>1</td>\n",
       "      <td>Urban</td>\n",
       "    </tr>\n",
       "    <tr>\n",
       "      <th>LP001051</th>\n",
       "      <td>Male</td>\n",
       "      <td>No</td>\n",
       "      <td>0</td>\n",
       "      <td>Not Graduate</td>\n",
       "      <td>No</td>\n",
       "      <td>3276</td>\n",
       "      <td>0</td>\n",
       "      <td>78.0</td>\n",
       "      <td>360</td>\n",
       "      <td>1</td>\n",
       "      <td>Urban</td>\n",
       "    </tr>\n",
       "  </tbody>\n",
       "</table>\n",
       "</div>"
      ],
      "text/plain": [
       "         Gender Married Dependents     Education Self_Employed  \\\n",
       "Loan_ID                                                          \n",
       "LP001015   Male     Yes          0      Graduate            No   \n",
       "LP001022   Male     Yes          1      Graduate            No   \n",
       "LP001031   Male     Yes          2      Graduate            No   \n",
       "LP001035   Male     Yes          2      Graduate            No   \n",
       "LP001051   Male      No          0  Not Graduate            No   \n",
       "\n",
       "          ApplicantIncome  CoapplicantIncome  LoanAmount Loan_Amount_Term  \\\n",
       "Loan_ID                                                                     \n",
       "LP001015             5720                  0       110.0              360   \n",
       "LP001022             3076               1500       126.0              360   \n",
       "LP001031             5000               1800       208.0              360   \n",
       "LP001035             2340               2546       100.0              360   \n",
       "LP001051             3276                  0        78.0              360   \n",
       "\n",
       "         Credit_History Property_Area  \n",
       "Loan_ID                                \n",
       "LP001015              1         Urban  \n",
       "LP001022              1         Urban  \n",
       "LP001031              1         Urban  \n",
       "LP001035              1         Urban  \n",
       "LP001051              1         Urban  "
      ]
     },
     "execution_count": 26,
     "metadata": {},
     "output_type": "execute_result"
    }
   ],
   "source": [
    "test.head()"
   ]
  },
  {
   "cell_type": "code",
   "execution_count": 27,
   "metadata": {
    "collapsed": false
   },
   "outputs": [],
   "source": [
    "#Doing this for all the missing variables\n",
    "\n",
    "train.Gender.fillna(\"Male\", inplace = True)\n",
    "train.Married.fillna(\"Yes\", inplace = True)\n",
    "train.Dependents.fillna(\"0\", inplace = True)\n",
    "train.Self_Employed.fillna(\"No\", inplace = True)\n",
    "\n",
    "test.Gender.fillna(\"Male\", inplace = True)\n",
    "test.Married.fillna(\"Yes\", inplace = True)\n",
    "test.Dependents.fillna(\"0\", inplace = True)\n",
    "test.Self_Employed.fillna(\"No\", inplace = True)"
   ]
  },
  {
   "cell_type": "code",
   "execution_count": 28,
   "metadata": {
    "collapsed": false
   },
   "outputs": [
    {
     "name": "stdout",
     "output_type": "stream",
     "text": [
      "Gender               0\n",
      "Married              0\n",
      "Dependents           0\n",
      "Education            0\n",
      "Self_Employed        0\n",
      "ApplicantIncome      0\n",
      "CoapplicantIncome    0\n",
      "LoanAmount           0\n",
      "Loan_Amount_Term     0\n",
      "Credit_History       0\n",
      "Property_Area        0\n",
      "Loan_Status          0\n",
      "dtype: int64\n",
      "Gender               0\n",
      "Married              0\n",
      "Dependents           0\n",
      "Education            0\n",
      "Self_Employed        0\n",
      "ApplicantIncome      0\n",
      "CoapplicantIncome    0\n",
      "LoanAmount           0\n",
      "Loan_Amount_Term     0\n",
      "Credit_History       0\n",
      "Property_Area        0\n",
      "dtype: int64\n"
     ]
    }
   ],
   "source": [
    "#checking for the missing values in the entire dataset\n",
    "print(train.isnull().sum())\n",
    "print(test.isnull().sum())"
   ]
  },
  {
   "cell_type": "markdown",
   "metadata": {},
   "source": [
    "As we now dont have any Missing Values in the Dataset, we can safely move onto the next step which is Outlier Detection\n",
    "\n",
    "# Step 4: Outlier Detection\n",
    "Outliers is an observation in the dataset, that appears far away and diverges from an overall pattern in a sample. They are well above or below the average very far from the normal values\n",
    "\n",
    "The best way to detect outliers is using: Boxplots, Histograms and Scatter plots. \n",
    "\n",
    "We have already seen these type of plots in the notebook which had indicated us the existence of outliers in our data. Lets look at some of the techniques which we can use to remove outliers\n",
    "\n",
    "## Delete Observation\n",
    "Just like missing values, here also we can delete the observations which have outliers in them. This can be useful if the outlier is really a very uncertain value in the dataset, but if this value is natural, this can affect the power of our model. Deleting outliers can be used but is not the preferred method. It depends on the data that we are operating on.\n",
    "\n",
    "# Transforming & Binning Values\n",
    "This is a very common method we use, where we take the log of the variable because it reduces thte variance in the variable to a great extent, this is what we had dont in the ApplicationIncome variable right at the start of the notebook. You saw how it changed a positively skewed graph to a normal distribution\n",
    "\n",
    "## Binning Values\n",
    "Binning values is categorising the values in groups which helps us to deal with outliers\n",
    "\n",
    "Eg: If we are measuring the weights of 5 year old kids the normal expected values are between 15 - 25 Kg but we have some values which are above that like 28, 32, 36 etc. So what we can do is group these weights as 15 - 18: Group1, 19 - 22: Group 2, 23 and above:Group 3. In this way we have given those outliers a new group and now they wont affect out data.\n",
    "\n",
    "This can be done using the pd.cut() method in pandas\n",
    "\n",
    "# Treat Separately(if Natural)\n",
    "If you observe that the values which are outliers are really natural and can exist in the data we can build models separately for those outliers if their percentage is great. "
   ]
  },
  {
   "cell_type": "code",
   "execution_count": 29,
   "metadata": {
    "collapsed": false
   },
   "outputs": [
    {
     "data": {
      "text/plain": [
       "array([[<matplotlib.axes._subplots.AxesSubplot object at 0x000000000DDEBBA8>,\n",
       "        <matplotlib.axes._subplots.AxesSubplot object at 0x000000000DCDF358>]], dtype=object)"
      ]
     },
     "execution_count": 29,
     "metadata": {},
     "output_type": "execute_result"
    },
    {
     "data": {
      "image/png": "[encoded data removed]",
      "text/plain": [
       "<matplotlib.figure.Figure at 0xca8c978>"
      ]
     },
     "metadata": {},
     "output_type": "display_data"
    }
   ],
   "source": [
    "#As we have already dealt with the ApplicantIncome variable in the first section next we will see how does the Loan amount distribution looks like \n",
    "#and what happens if we take a log for it\n",
    "\n",
    "first = pd.DataFrame({\"LoanAmount\": train.LoanAmount, \"Log LoanAmount\" : np.log1p(train.LoanAmount)})\n",
    "first.hist()"
   ]
  },
  {
   "cell_type": "markdown",
   "metadata": {},
   "source": [
    "We can observe that how the positively skewed data has now changed to a normal distribution because of taking log on that variable. Lets take log for both these variables in the dataset"
   ]
  },
  {
   "cell_type": "markdown",
   "metadata": {},
   "source": [
    "\n",
    "\n",
    "# Feature Engineering\n",
    "In this step we create new variables in our dataset by observing or finding some patterns which can help us create some new variables from the older ones. This can surely help us to increase the power of the model and help it to understand and fit the data in a better manner.\n",
    "\n",
    "Feature engineering completely depends on your understanding of the data and the ability to find new patterns and trends in the data. It also depends on your domian knowledge"
   ]
  },
  {
   "cell_type": "code",
   "execution_count": 30,
   "metadata": {
    "collapsed": false
   },
   "outputs": [],
   "source": [
    "#As the loan_status is greatly affected by the income we can form a new variable called as TOTAL_INCOME because if the income \n",
    "#from the co-applicant is also contributing there are high chances of the person getting a laon. Lets add those two variables to \n",
    "#form a new variable\n",
    "\n",
    "train[\"Total_Income\"] = train[\"ApplicantIncome\"] + train[\"CoapplicantIncome\"]\n",
    "test[\"Total_Income\"] = test[\"ApplicantIncome\"] + test[\"CoapplicantIncome\"]\n"
   ]
  },
  {
   "cell_type": "markdown",
   "metadata": {},
   "source": [
    "Lets normalize this data and also the Applicant and Coapplicant income data in the dataset and then plot it"
   ]
  },
  {
   "cell_type": "code",
   "execution_count": 31,
   "metadata": {
    "collapsed": false
   },
   "outputs": [],
   "source": [
    "#lets take the logarithmic values for all these variables in the dataset\n",
    "\n",
    "train[\"ApplicantIncome\"] = np.log1p(train.ApplicantIncome)\n",
    "test[\"ApplicantIncome\"] = np.log1p(test.ApplicantIncome)\n",
    "train[\"LoanAmount\"] = np.log1p(train.LoanAmount)\n",
    "test[\"LoanAmount\"] = np.log1p(test.LoanAmount)\n",
    "train[\"Total_Income\"] = np.log1p(train.Total_Income)\n",
    "test[\"Total_Income\"] = np.log1p(test.Total_Income)"
   ]
  },
  {
   "cell_type": "code",
   "execution_count": 32,
   "metadata": {
    "collapsed": false
   },
   "outputs": [
    {
     "data": {
      "text/html": [
       "<div>\n",
       "<table border=\"1\" class=\"dataframe\">\n",
       "  <thead>\n",
       "    <tr style=\"text-align: right;\">\n",
       "      <th></th>\n",
       "      <th>Gender</th>\n",
       "      <th>Married</th>\n",
       "      <th>Dependents</th>\n",
       "      <th>Education</th>\n",
       "      <th>Self_Employed</th>\n",
       "      <th>ApplicantIncome</th>\n",
       "      <th>CoapplicantIncome</th>\n",
       "      <th>LoanAmount</th>\n",
       "      <th>Loan_Amount_Term</th>\n",
       "      <th>Credit_History</th>\n",
       "      <th>Property_Area</th>\n",
       "      <th>Loan_Status</th>\n",
       "      <th>Total_Income</th>\n",
       "    </tr>\n",
       "    <tr>\n",
       "      <th>Loan_ID</th>\n",
       "      <th></th>\n",
       "      <th></th>\n",
       "      <th></th>\n",
       "      <th></th>\n",
       "      <th></th>\n",
       "      <th></th>\n",
       "      <th></th>\n",
       "      <th></th>\n",
       "      <th></th>\n",
       "      <th></th>\n",
       "      <th></th>\n",
       "      <th></th>\n",
       "      <th></th>\n",
       "    </tr>\n",
       "  </thead>\n",
       "  <tbody>\n",
       "    <tr>\n",
       "      <th>LP001002</th>\n",
       "      <td>Male</td>\n",
       "      <td>No</td>\n",
       "      <td>0</td>\n",
       "      <td>Graduate</td>\n",
       "      <td>No</td>\n",
       "      <td>8.674197</td>\n",
       "      <td>0.0</td>\n",
       "      <td>4.993232</td>\n",
       "      <td>360</td>\n",
       "      <td>1</td>\n",
       "      <td>Urban</td>\n",
       "      <td>Y</td>\n",
       "      <td>8.674197</td>\n",
       "    </tr>\n",
       "    <tr>\n",
       "      <th>LP001003</th>\n",
       "      <td>Male</td>\n",
       "      <td>Yes</td>\n",
       "      <td>1</td>\n",
       "      <td>Graduate</td>\n",
       "      <td>No</td>\n",
       "      <td>8.430327</td>\n",
       "      <td>1508.0</td>\n",
       "      <td>4.859812</td>\n",
       "      <td>360</td>\n",
       "      <td>1</td>\n",
       "      <td>Rural</td>\n",
       "      <td>N</td>\n",
       "      <td>8.714732</td>\n",
       "    </tr>\n",
       "    <tr>\n",
       "      <th>LP001005</th>\n",
       "      <td>Male</td>\n",
       "      <td>Yes</td>\n",
       "      <td>0</td>\n",
       "      <td>Graduate</td>\n",
       "      <td>Yes</td>\n",
       "      <td>8.006701</td>\n",
       "      <td>0.0</td>\n",
       "      <td>4.204693</td>\n",
       "      <td>360</td>\n",
       "      <td>1</td>\n",
       "      <td>Urban</td>\n",
       "      <td>Y</td>\n",
       "      <td>8.006701</td>\n",
       "    </tr>\n",
       "    <tr>\n",
       "      <th>LP001006</th>\n",
       "      <td>Male</td>\n",
       "      <td>Yes</td>\n",
       "      <td>0</td>\n",
       "      <td>Not Graduate</td>\n",
       "      <td>No</td>\n",
       "      <td>7.857094</td>\n",
       "      <td>2358.0</td>\n",
       "      <td>4.795791</td>\n",
       "      <td>360</td>\n",
       "      <td>1</td>\n",
       "      <td>Urban</td>\n",
       "      <td>Y</td>\n",
       "      <td>8.505525</td>\n",
       "    </tr>\n",
       "    <tr>\n",
       "      <th>LP001008</th>\n",
       "      <td>Male</td>\n",
       "      <td>No</td>\n",
       "      <td>0</td>\n",
       "      <td>Graduate</td>\n",
       "      <td>No</td>\n",
       "      <td>8.699681</td>\n",
       "      <td>0.0</td>\n",
       "      <td>4.955827</td>\n",
       "      <td>360</td>\n",
       "      <td>1</td>\n",
       "      <td>Urban</td>\n",
       "      <td>Y</td>\n",
       "      <td>8.699681</td>\n",
       "    </tr>\n",
       "  </tbody>\n",
       "</table>\n",
       "</div>"
      ],
      "text/plain": [
       "         Gender Married Dependents     Education Self_Employed  \\\n",
       "Loan_ID                                                          \n",
       "LP001002   Male      No          0      Graduate            No   \n",
       "LP001003   Male     Yes          1      Graduate            No   \n",
       "LP001005   Male     Yes          0      Graduate           Yes   \n",
       "LP001006   Male     Yes          0  Not Graduate            No   \n",
       "LP001008   Male      No          0      Graduate            No   \n",
       "\n",
       "          ApplicantIncome  CoapplicantIncome  LoanAmount Loan_Amount_Term  \\\n",
       "Loan_ID                                                                     \n",
       "LP001002         8.674197                0.0    4.993232              360   \n",
       "LP001003         8.430327             1508.0    4.859812              360   \n",
       "LP001005         8.006701                0.0    4.204693              360   \n",
       "LP001006         7.857094             2358.0    4.795791              360   \n",
       "LP001008         8.699681                0.0    4.955827              360   \n",
       "\n",
       "         Credit_History Property_Area Loan_Status  Total_Income  \n",
       "Loan_ID                                                          \n",
       "LP001002              1         Urban           Y      8.674197  \n",
       "LP001003              1         Rural           N      8.714732  \n",
       "LP001005              1         Urban           Y      8.006701  \n",
       "LP001006              1         Urban           Y      8.505525  \n",
       "LP001008              1         Urban           Y      8.699681  "
      ]
     },
     "execution_count": 32,
     "metadata": {},
     "output_type": "execute_result"
    }
   ],
   "source": [
    "train.head()"
   ]
  },
  {
   "cell_type": "code",
   "execution_count": 33,
   "metadata": {
    "collapsed": false
   },
   "outputs": [
    {
     "data": {
      "text/html": [
       "<div>\n",
       "<table border=\"1\" class=\"dataframe\">\n",
       "  <thead>\n",
       "    <tr style=\"text-align: right;\">\n",
       "      <th></th>\n",
       "      <th>Gender</th>\n",
       "      <th>Married</th>\n",
       "      <th>Dependents</th>\n",
       "      <th>Education</th>\n",
       "      <th>Self_Employed</th>\n",
       "      <th>ApplicantIncome</th>\n",
       "      <th>CoapplicantIncome</th>\n",
       "      <th>LoanAmount</th>\n",
       "      <th>Loan_Amount_Term</th>\n",
       "      <th>Credit_History</th>\n",
       "      <th>Property_Area</th>\n",
       "      <th>Total_Income</th>\n",
       "    </tr>\n",
       "    <tr>\n",
       "      <th>Loan_ID</th>\n",
       "      <th></th>\n",
       "      <th></th>\n",
       "      <th></th>\n",
       "      <th></th>\n",
       "      <th></th>\n",
       "      <th></th>\n",
       "      <th></th>\n",
       "      <th></th>\n",
       "      <th></th>\n",
       "      <th></th>\n",
       "      <th></th>\n",
       "      <th></th>\n",
       "    </tr>\n",
       "  </thead>\n",
       "  <tbody>\n",
       "    <tr>\n",
       "      <th>LP001015</th>\n",
       "      <td>Male</td>\n",
       "      <td>Yes</td>\n",
       "      <td>0</td>\n",
       "      <td>Graduate</td>\n",
       "      <td>No</td>\n",
       "      <td>8.651899</td>\n",
       "      <td>0</td>\n",
       "      <td>4.709530</td>\n",
       "      <td>360</td>\n",
       "      <td>1</td>\n",
       "      <td>Urban</td>\n",
       "      <td>8.651899</td>\n",
       "    </tr>\n",
       "    <tr>\n",
       "      <th>LP001022</th>\n",
       "      <td>Male</td>\n",
       "      <td>Yes</td>\n",
       "      <td>1</td>\n",
       "      <td>Graduate</td>\n",
       "      <td>No</td>\n",
       "      <td>8.031710</td>\n",
       "      <td>1500</td>\n",
       "      <td>4.844187</td>\n",
       "      <td>360</td>\n",
       "      <td>1</td>\n",
       "      <td>Urban</td>\n",
       "      <td>8.428799</td>\n",
       "    </tr>\n",
       "    <tr>\n",
       "      <th>LP001031</th>\n",
       "      <td>Male</td>\n",
       "      <td>Yes</td>\n",
       "      <td>2</td>\n",
       "      <td>Graduate</td>\n",
       "      <td>No</td>\n",
       "      <td>8.517393</td>\n",
       "      <td>1800</td>\n",
       "      <td>5.342334</td>\n",
       "      <td>360</td>\n",
       "      <td>1</td>\n",
       "      <td>Urban</td>\n",
       "      <td>8.824825</td>\n",
       "    </tr>\n",
       "    <tr>\n",
       "      <th>LP001035</th>\n",
       "      <td>Male</td>\n",
       "      <td>Yes</td>\n",
       "      <td>2</td>\n",
       "      <td>Graduate</td>\n",
       "      <td>No</td>\n",
       "      <td>7.758333</td>\n",
       "      <td>2546</td>\n",
       "      <td>4.615121</td>\n",
       "      <td>360</td>\n",
       "      <td>1</td>\n",
       "      <td>Urban</td>\n",
       "      <td>8.494334</td>\n",
       "    </tr>\n",
       "    <tr>\n",
       "      <th>LP001051</th>\n",
       "      <td>Male</td>\n",
       "      <td>No</td>\n",
       "      <td>0</td>\n",
       "      <td>Not Graduate</td>\n",
       "      <td>No</td>\n",
       "      <td>8.094684</td>\n",
       "      <td>0</td>\n",
       "      <td>4.369448</td>\n",
       "      <td>360</td>\n",
       "      <td>1</td>\n",
       "      <td>Urban</td>\n",
       "      <td>8.094684</td>\n",
       "    </tr>\n",
       "  </tbody>\n",
       "</table>\n",
       "</div>"
      ],
      "text/plain": [
       "         Gender Married Dependents     Education Self_Employed  \\\n",
       "Loan_ID                                                          \n",
       "LP001015   Male     Yes          0      Graduate            No   \n",
       "LP001022   Male     Yes          1      Graduate            No   \n",
       "LP001031   Male     Yes          2      Graduate            No   \n",
       "LP001035   Male     Yes          2      Graduate            No   \n",
       "LP001051   Male      No          0  Not Graduate            No   \n",
       "\n",
       "          ApplicantIncome  CoapplicantIncome  LoanAmount Loan_Amount_Term  \\\n",
       "Loan_ID                                                                     \n",
       "LP001015         8.651899                  0    4.709530              360   \n",
       "LP001022         8.031710               1500    4.844187              360   \n",
       "LP001031         8.517393               1800    5.342334              360   \n",
       "LP001035         7.758333               2546    4.615121              360   \n",
       "LP001051         8.094684                  0    4.369448              360   \n",
       "\n",
       "         Credit_History Property_Area  Total_Income  \n",
       "Loan_ID                                              \n",
       "LP001015              1         Urban      8.651899  \n",
       "LP001022              1         Urban      8.428799  \n",
       "LP001031              1         Urban      8.824825  \n",
       "LP001035              1         Urban      8.494334  \n",
       "LP001051              1         Urban      8.094684  "
      ]
     },
     "execution_count": 33,
     "metadata": {},
     "output_type": "execute_result"
    }
   ],
   "source": [
    "test.head()"
   ]
  },
  {
   "cell_type": "markdown",
   "metadata": {},
   "source": [
    "We will try to create one more variable, which would be LoanAmount/TotalIncome this would give us an idea whether the individual applying for loan is able to repay his loan or not"
   ]
  },
  {
   "cell_type": "code",
   "execution_count": 34,
   "metadata": {
    "collapsed": false
   },
   "outputs": [],
   "source": [
    "#creating the new variable - Repay\n",
    "\n",
    "train[\"Repay\"] = train[\"LoanAmount\"] / train[\"Total_Income\"]\n",
    "test[\"Repay\"] = test[\"LoanAmount\"] / test[\"Total_Income\"]"
   ]
  },
  {
   "cell_type": "markdown",
   "metadata": {},
   "source": [
    "We have seen all the basic steps that you need to perform before heading to the \"Building the model\" phase. We should always follow these steps for any kind of problem in Machine Learning before heading towards the model building phase because, if your Data is clean and we have given the model something more than the normal data with human intutions, we can surely say the model we built will be a good model.\n",
    "\n",
    "Here we end the Data Exploration and Data Cleaning part, next we will see how to deal with the Machine Learning part by implementing simple algorithms on our cleaned data.\n",
    "\n",
    "*******************************************************************************************************************************\n",
    "# Model Building Phase\n",
    "In this phase we will start building our Prediction model\n",
    "\n",
    "As most of the algorithms require the input data to be in numbers we need to encode our categorical variables into integers for these algorithms\n",
    "\n",
    "This can be done using two types of encoding LabelEncoder and OneHotEncoding, we can also use pd.factorize which is similar to LabelEncoder. But the usage of these techniques totally depend on the type of the categorical variable. We shoudl always use LabelEncoder whenever the variable is a Binary variable and if the variable contains more than two classes we have to use OneHotEncoding.\n",
    "\n",
    "\n"
   ]
  },
  {
   "cell_type": "code",
   "execution_count": 36,
   "metadata": {
    "collapsed": false
   },
   "outputs": [],
   "source": [
    "#using LabelEncoding for some of the variables in our data\n",
    "\n",
    "from sklearn.preprocessing import LabelEncoder\n",
    "\n",
    "LE = LabelEncoder()\n",
    "cols = [\"Gender\", \"Married\",\"Dependents\", \"Education\", \"Self_Employed\", \"Property_Area\", \"Loan_Status\"]\n",
    "\n",
    "\n",
    "for i in cols:\n",
    "  train[i] = LE.fit_transform(train[i])\n",
    "\n"
   ]
  },
  {
   "cell_type": "code",
   "execution_count": 37,
   "metadata": {
    "collapsed": true
   },
   "outputs": [],
   "source": [
    "cols = [\"Gender\", \"Married\",\"Dependents\", \"Education\", \"Self_Employed\", \"Property_Area\"]\n",
    "for i in cols:\n",
    "    test[i] = LE.fit_transform(test[i])"
   ]
  },
  {
   "cell_type": "code",
   "execution_count": 38,
   "metadata": {
    "collapsed": false
   },
   "outputs": [
    {
     "name": "stdout",
     "output_type": "stream",
     "text": [
      "(614, 14)\n",
      "(367, 13)\n"
     ]
    }
   ],
   "source": [
    "print(train.shape)\n",
    "print(test.shape)"
   ]
  },
  {
   "cell_type": "code",
   "execution_count": 39,
   "metadata": {
    "collapsed": false
   },
   "outputs": [
    {
     "data": {
      "text/html": [
       "<div>\n",
       "<table border=\"1\" class=\"dataframe\">\n",
       "  <thead>\n",
       "    <tr style=\"text-align: right;\">\n",
       "      <th></th>\n",
       "      <th>Gender</th>\n",
       "      <th>Married</th>\n",
       "      <th>Dependents</th>\n",
       "      <th>Education</th>\n",
       "      <th>Self_Employed</th>\n",
       "      <th>ApplicantIncome</th>\n",
       "      <th>CoapplicantIncome</th>\n",
       "      <th>LoanAmount</th>\n",
       "      <th>Loan_Amount_Term</th>\n",
       "      <th>Credit_History</th>\n",
       "      <th>Property_Area</th>\n",
       "      <th>Loan_Status</th>\n",
       "      <th>Total_Income</th>\n",
       "      <th>Repay</th>\n",
       "    </tr>\n",
       "    <tr>\n",
       "      <th>Loan_ID</th>\n",
       "      <th></th>\n",
       "      <th></th>\n",
       "      <th></th>\n",
       "      <th></th>\n",
       "      <th></th>\n",
       "      <th></th>\n",
       "      <th></th>\n",
       "      <th></th>\n",
       "      <th></th>\n",
       "      <th></th>\n",
       "      <th></th>\n",
       "      <th></th>\n",
       "      <th></th>\n",
       "      <th></th>\n",
       "    </tr>\n",
       "  </thead>\n",
       "  <tbody>\n",
       "    <tr>\n",
       "      <th>LP001002</th>\n",
       "      <td>1</td>\n",
       "      <td>0</td>\n",
       "      <td>0</td>\n",
       "      <td>0</td>\n",
       "      <td>0</td>\n",
       "      <td>8.674197</td>\n",
       "      <td>0.0</td>\n",
       "      <td>4.993232</td>\n",
       "      <td>360</td>\n",
       "      <td>1</td>\n",
       "      <td>2</td>\n",
       "      <td>1</td>\n",
       "      <td>8.674197</td>\n",
       "      <td>0.575642</td>\n",
       "    </tr>\n",
       "    <tr>\n",
       "      <th>LP001003</th>\n",
       "      <td>1</td>\n",
       "      <td>1</td>\n",
       "      <td>1</td>\n",
       "      <td>0</td>\n",
       "      <td>0</td>\n",
       "      <td>8.430327</td>\n",
       "      <td>1508.0</td>\n",
       "      <td>4.859812</td>\n",
       "      <td>360</td>\n",
       "      <td>1</td>\n",
       "      <td>0</td>\n",
       "      <td>0</td>\n",
       "      <td>8.714732</td>\n",
       "      <td>0.557655</td>\n",
       "    </tr>\n",
       "    <tr>\n",
       "      <th>LP001005</th>\n",
       "      <td>1</td>\n",
       "      <td>1</td>\n",
       "      <td>0</td>\n",
       "      <td>0</td>\n",
       "      <td>1</td>\n",
       "      <td>8.006701</td>\n",
       "      <td>0.0</td>\n",
       "      <td>4.204693</td>\n",
       "      <td>360</td>\n",
       "      <td>1</td>\n",
       "      <td>2</td>\n",
       "      <td>1</td>\n",
       "      <td>8.006701</td>\n",
       "      <td>0.525147</td>\n",
       "    </tr>\n",
       "    <tr>\n",
       "      <th>LP001006</th>\n",
       "      <td>1</td>\n",
       "      <td>1</td>\n",
       "      <td>0</td>\n",
       "      <td>1</td>\n",
       "      <td>0</td>\n",
       "      <td>7.857094</td>\n",
       "      <td>2358.0</td>\n",
       "      <td>4.795791</td>\n",
       "      <td>360</td>\n",
       "      <td>1</td>\n",
       "      <td>2</td>\n",
       "      <td>1</td>\n",
       "      <td>8.505525</td>\n",
       "      <td>0.563844</td>\n",
       "    </tr>\n",
       "    <tr>\n",
       "      <th>LP001008</th>\n",
       "      <td>1</td>\n",
       "      <td>0</td>\n",
       "      <td>0</td>\n",
       "      <td>0</td>\n",
       "      <td>0</td>\n",
       "      <td>8.699681</td>\n",
       "      <td>0.0</td>\n",
       "      <td>4.955827</td>\n",
       "      <td>360</td>\n",
       "      <td>1</td>\n",
       "      <td>2</td>\n",
       "      <td>1</td>\n",
       "      <td>8.699681</td>\n",
       "      <td>0.569656</td>\n",
       "    </tr>\n",
       "    <tr>\n",
       "      <th>LP001011</th>\n",
       "      <td>1</td>\n",
       "      <td>1</td>\n",
       "      <td>2</td>\n",
       "      <td>0</td>\n",
       "      <td>1</td>\n",
       "      <td>8.597482</td>\n",
       "      <td>4196.0</td>\n",
       "      <td>5.590987</td>\n",
       "      <td>360</td>\n",
       "      <td>1</td>\n",
       "      <td>2</td>\n",
       "      <td>1</td>\n",
       "      <td>9.170976</td>\n",
       "      <td>0.609639</td>\n",
       "    </tr>\n",
       "    <tr>\n",
       "      <th>LP001013</th>\n",
       "      <td>1</td>\n",
       "      <td>1</td>\n",
       "      <td>0</td>\n",
       "      <td>1</td>\n",
       "      <td>0</td>\n",
       "      <td>7.755339</td>\n",
       "      <td>1516.0</td>\n",
       "      <td>4.564348</td>\n",
       "      <td>360</td>\n",
       "      <td>1</td>\n",
       "      <td>2</td>\n",
       "      <td>1</td>\n",
       "      <td>8.255828</td>\n",
       "      <td>0.552864</td>\n",
       "    </tr>\n",
       "    <tr>\n",
       "      <th>LP001014</th>\n",
       "      <td>1</td>\n",
       "      <td>1</td>\n",
       "      <td>3</td>\n",
       "      <td>0</td>\n",
       "      <td>0</td>\n",
       "      <td>8.018625</td>\n",
       "      <td>2504.0</td>\n",
       "      <td>5.068904</td>\n",
       "      <td>360</td>\n",
       "      <td>0</td>\n",
       "      <td>1</td>\n",
       "      <td>0</td>\n",
       "      <td>8.619930</td>\n",
       "      <td>0.588045</td>\n",
       "    </tr>\n",
       "    <tr>\n",
       "      <th>LP001018</th>\n",
       "      <td>1</td>\n",
       "      <td>1</td>\n",
       "      <td>2</td>\n",
       "      <td>0</td>\n",
       "      <td>0</td>\n",
       "      <td>8.295798</td>\n",
       "      <td>1526.0</td>\n",
       "      <td>5.129899</td>\n",
       "      <td>360</td>\n",
       "      <td>1</td>\n",
       "      <td>2</td>\n",
       "      <td>1</td>\n",
       "      <td>8.618485</td>\n",
       "      <td>0.595220</td>\n",
       "    </tr>\n",
       "    <tr>\n",
       "      <th>LP001020</th>\n",
       "      <td>1</td>\n",
       "      <td>1</td>\n",
       "      <td>1</td>\n",
       "      <td>0</td>\n",
       "      <td>0</td>\n",
       "      <td>9.460476</td>\n",
       "      <td>10968.0</td>\n",
       "      <td>5.857933</td>\n",
       "      <td>360</td>\n",
       "      <td>1</td>\n",
       "      <td>1</td>\n",
       "      <td>0</td>\n",
       "      <td>10.077861</td>\n",
       "      <td>0.581268</td>\n",
       "    </tr>\n",
       "  </tbody>\n",
       "</table>\n",
       "</div>"
      ],
      "text/plain": [
       "          Gender  Married  Dependents  Education  Self_Employed  \\\n",
       "Loan_ID                                                           \n",
       "LP001002       1        0           0          0              0   \n",
       "LP001003       1        1           1          0              0   \n",
       "LP001005       1        1           0          0              1   \n",
       "LP001006       1        1           0          1              0   \n",
       "LP001008       1        0           0          0              0   \n",
       "LP001011       1        1           2          0              1   \n",
       "LP001013       1        1           0          1              0   \n",
       "LP001014       1        1           3          0              0   \n",
       "LP001018       1        1           2          0              0   \n",
       "LP001020       1        1           1          0              0   \n",
       "\n",
       "          ApplicantIncome  CoapplicantIncome  LoanAmount Loan_Amount_Term  \\\n",
       "Loan_ID                                                                     \n",
       "LP001002         8.674197                0.0    4.993232              360   \n",
       "LP001003         8.430327             1508.0    4.859812              360   \n",
       "LP001005         8.006701                0.0    4.204693              360   \n",
       "LP001006         7.857094             2358.0    4.795791              360   \n",
       "LP001008         8.699681                0.0    4.955827              360   \n",
       "LP001011         8.597482             4196.0    5.590987              360   \n",
       "LP001013         7.755339             1516.0    4.564348              360   \n",
       "LP001014         8.018625             2504.0    5.068904              360   \n",
       "LP001018         8.295798             1526.0    5.129899              360   \n",
       "LP001020         9.460476            10968.0    5.857933              360   \n",
       "\n",
       "         Credit_History  Property_Area  Loan_Status  Total_Income     Repay  \n",
       "Loan_ID                                                                      \n",
       "LP001002              1              2            1      8.674197  0.575642  \n",
       "LP001003              1              0            0      8.714732  0.557655  \n",
       "LP001005              1              2            1      8.006701  0.525147  \n",
       "LP001006              1              2            1      8.505525  0.563844  \n",
       "LP001008              1              2            1      8.699681  0.569656  \n",
       "LP001011              1              2            1      9.170976  0.609639  \n",
       "LP001013              1              2            1      8.255828  0.552864  \n",
       "LP001014              0              1            0      8.619930  0.588045  \n",
       "LP001018              1              2            1      8.618485  0.595220  \n",
       "LP001020              1              1            0     10.077861  0.581268  "
      ]
     },
     "execution_count": 39,
     "metadata": {},
     "output_type": "execute_result"
    }
   ],
   "source": [
    "train.head(10)"
   ]
  },
  {
   "cell_type": "code",
   "execution_count": 45,
   "metadata": {
    "collapsed": false
   },
   "outputs": [],
   "source": [
    "train[['Loan_Amount_Term','Credit_History']] = train[['Loan_Amount_Term','Credit_History']].apply(pd.to_numeric)\n",
    "test[['Loan_Amount_Term','Credit_History']] = test[['Loan_Amount_Term','Credit_History']].apply(pd.to_numeric)"
   ]
  },
  {
   "cell_type": "code",
   "execution_count": 46,
   "metadata": {
    "collapsed": false
   },
   "outputs": [
    {
     "name": "stdout",
     "output_type": "stream",
     "text": [
      "<class 'pandas.core.frame.DataFrame'>\n",
      "Index: 614 entries, LP001002 to LP002990\n",
      "Data columns (total 14 columns):\n",
      "Gender               614 non-null int64\n",
      "Married              614 non-null int64\n",
      "Dependents           614 non-null int64\n",
      "Education            614 non-null int64\n",
      "Self_Employed        614 non-null int64\n",
      "ApplicantIncome      614 non-null float64\n",
      "CoapplicantIncome    614 non-null float64\n",
      "LoanAmount           614 non-null float64\n",
      "Loan_Amount_Term     614 non-null float64\n",
      "Credit_History       614 non-null float64\n",
      "Property_Area        614 non-null int64\n",
      "Loan_Status          614 non-null int64\n",
      "Total_Income         614 non-null float64\n",
      "Repay                614 non-null float64\n",
      "dtypes: float64(7), int64(7)\n",
      "memory usage: 72.0+ KB\n"
     ]
    }
   ],
   "source": [
    "train.info()"
   ]
  },
  {
   "cell_type": "markdown",
   "metadata": {},
   "source": [
    "As all the columns in our dataset have now been converted to numeric values we will go ahead and build some models on it and also check the accuracy of our models."
   ]
  },
  {
   "cell_type": "code",
   "execution_count": 50,
   "metadata": {
    "collapsed": false
   },
   "outputs": [],
   "source": [
    "#Before we start building model first lets separate our target variable from the training dataset\n",
    "\n",
    "y = train.Loan_Status\n",
    "train = train.drop([\"Loan_Status\"], axis = 1)"
   ]
  },
  {
   "cell_type": "markdown",
   "metadata": {},
   "source": [
    "# Logistic Regression\n",
    "It is one of the first classification algorithms you learn and also one of the best."
   ]
  },
  {
   "cell_type": "code",
   "execution_count": 57,
   "metadata": {
    "collapsed": false
   },
   "outputs": [
    {
     "name": "stdout",
     "output_type": "stream",
     "text": [
      "Accuracy : 81.107%\n"
     ]
    }
   ],
   "source": [
    "model = LogisticRegression()\n",
    "first = model.fit(train, y)\n",
    "pred = model.predict(train)\n",
    "pred1 = model.predict(test)\n",
    "\n",
    "#Print accuracy\n",
    "accuracy = metrics.accuracy_score(pred,y)\n",
    "print (\"Accuracy : %s\" % \"{0:.3%}\".format(accuracy))"
   ]
  },
  {
   "cell_type": "markdown",
   "metadata": {},
   "source": [
    "As we can see that the accuracy score is 81% which is fine, but can be improved with some sophisticated models\n",
    "\n",
    "\n",
    "You should always use Cross-Validation techniques to improve your model, for classification problems the best CV technique is Stratified sampling method, because it takes data for the folds randomly. You can implement this for better accuracy and understanding of your model on unseen data.\n",
    "\n",
    "# RandomForest Classifier\n",
    "It is an ensemble method which is one of the best and is used widely for any kind of problem be it classification or regression. There are many advantages of using RandomForest as it reduces the variance to a great extent and also has some important methods which we can use like feature importance which we will see in the coming section\n",
    "\n",
    "lets implement Random Forest on our data"
   ]
  },
  {
   "cell_type": "code",
   "execution_count": 60,
   "metadata": {
    "collapsed": false
   },
   "outputs": [
    {
     "name": "stdout",
     "output_type": "stream",
     "text": [
      "Accuracy : 100.000%\n"
     ]
    }
   ],
   "source": [
    "model = RandomForestClassifier(n_estimators = 50)\n",
    "first = model.fit(train,y)\n",
    "pred = model.predict(train)\n",
    "pred1 = model.predict(test)\n",
    "\n",
    "#Print accuracy\n",
    "accuracy = metrics.accuracy_score(pred,y)\n",
    "print (\"Accuracy : %s\" % \"{0:.3%}\".format(accuracy))"
   ]
  },
  {
   "cell_type": "markdown",
   "metadata": {},
   "source": [
    "Though we get such a high accuracy score, we can surely say that this is because of overfitting because these kind of algorithms tend to overfit the data a lot, there are various methods by which you can stop this like Pruning and also using cross validation, which you can learn from various sources like Kaggle and different blogs.\n",
    "\n",
    "Next we will see how to find the important features from our dataset using RandomForest which contribute to our target variable the most. "
   ]
  },
  {
   "cell_type": "code",
   "execution_count": 62,
   "metadata": {
    "collapsed": false
   },
   "outputs": [
    {
     "name": "stdout",
     "output_type": "stream",
     "text": [
      "9     0.254755\n",
      "12    0.132119\n",
      "11    0.131380\n",
      "5     0.128478\n",
      "7     0.108904\n",
      "6     0.080461\n",
      "10    0.036530\n",
      "8     0.031547\n",
      "2     0.031430\n",
      "3     0.018228\n",
      "1     0.017861\n",
      "0     0.014852\n",
      "4     0.013456\n",
      "dtype: float64\n"
     ]
    }
   ],
   "source": [
    "#Create a series with feature importances:\n",
    "featimp = pd.Series(model.feature_importances_).sort_values(ascending=False)\n",
    "print (featimp)"
   ]
  }
 ],
 "metadata": {
  "kernelspec": {
   "display_name": "Python [Root]",
   "language": "python",
   "name": "Python [Root]"
  },
  "language_info": {
   "codemirror_mode": {
    "name": "ipython",
    "version": 3
   },
   "file_extension": ".py",
   "mimetype": "text/x-python",
   "name": "python",
   "nbconvert_exporter": "python",
   "pygments_lexer": "ipython3",
   "version": "3.5.2"
  }
 },
 "nbformat": 4,
 "nbformat_minor": 0
}
